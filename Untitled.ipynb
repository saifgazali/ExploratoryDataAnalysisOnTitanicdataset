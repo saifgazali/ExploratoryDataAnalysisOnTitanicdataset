{
 "cells": [
  {
   "cell_type": "code",
   "execution_count": 436,
   "metadata": {},
   "outputs": [],
   "source": [
    "import pandas as pd\n",
    "import numpy as np\n",
    "import matplotlib.pyplot as plt"
   ]
  },
  {
   "cell_type": "code",
   "execution_count": 437,
   "metadata": {},
   "outputs": [],
   "source": [
    "data = pd.read_csv('train.csv')"
   ]
  },
  {
   "cell_type": "code",
   "execution_count": 438,
   "metadata": {},
   "outputs": [
    {
     "data": {
      "text/html": [
       "<div>\n",
       "<style scoped>\n",
       "    .dataframe tbody tr th:only-of-type {\n",
       "        vertical-align: middle;\n",
       "    }\n",
       "\n",
       "    .dataframe tbody tr th {\n",
       "        vertical-align: top;\n",
       "    }\n",
       "\n",
       "    .dataframe thead th {\n",
       "        text-align: right;\n",
       "    }\n",
       "</style>\n",
       "<table border=\"1\" class=\"dataframe\">\n",
       "  <thead>\n",
       "    <tr style=\"text-align: right;\">\n",
       "      <th></th>\n",
       "      <th>PassengerId</th>\n",
       "      <th>Survived</th>\n",
       "      <th>Pclass</th>\n",
       "      <th>Name</th>\n",
       "      <th>Sex</th>\n",
       "      <th>Age</th>\n",
       "      <th>SibSp</th>\n",
       "      <th>Parch</th>\n",
       "      <th>Ticket</th>\n",
       "      <th>Fare</th>\n",
       "      <th>Cabin</th>\n",
       "      <th>Embarked</th>\n",
       "    </tr>\n",
       "  </thead>\n",
       "  <tbody>\n",
       "    <tr>\n",
       "      <th>0</th>\n",
       "      <td>1</td>\n",
       "      <td>0</td>\n",
       "      <td>3</td>\n",
       "      <td>Braund, Mr. Owen Harris</td>\n",
       "      <td>male</td>\n",
       "      <td>22.0</td>\n",
       "      <td>1</td>\n",
       "      <td>0</td>\n",
       "      <td>A/5 21171</td>\n",
       "      <td>7.2500</td>\n",
       "      <td>NaN</td>\n",
       "      <td>S</td>\n",
       "    </tr>\n",
       "    <tr>\n",
       "      <th>1</th>\n",
       "      <td>2</td>\n",
       "      <td>1</td>\n",
       "      <td>1</td>\n",
       "      <td>Cumings, Mrs. John Bradley (Florence Briggs Th...</td>\n",
       "      <td>female</td>\n",
       "      <td>38.0</td>\n",
       "      <td>1</td>\n",
       "      <td>0</td>\n",
       "      <td>PC 17599</td>\n",
       "      <td>71.2833</td>\n",
       "      <td>C85</td>\n",
       "      <td>C</td>\n",
       "    </tr>\n",
       "    <tr>\n",
       "      <th>2</th>\n",
       "      <td>3</td>\n",
       "      <td>1</td>\n",
       "      <td>3</td>\n",
       "      <td>Heikkinen, Miss. Laina</td>\n",
       "      <td>female</td>\n",
       "      <td>26.0</td>\n",
       "      <td>0</td>\n",
       "      <td>0</td>\n",
       "      <td>STON/O2. 3101282</td>\n",
       "      <td>7.9250</td>\n",
       "      <td>NaN</td>\n",
       "      <td>S</td>\n",
       "    </tr>\n",
       "    <tr>\n",
       "      <th>3</th>\n",
       "      <td>4</td>\n",
       "      <td>1</td>\n",
       "      <td>1</td>\n",
       "      <td>Futrelle, Mrs. Jacques Heath (Lily May Peel)</td>\n",
       "      <td>female</td>\n",
       "      <td>35.0</td>\n",
       "      <td>1</td>\n",
       "      <td>0</td>\n",
       "      <td>113803</td>\n",
       "      <td>53.1000</td>\n",
       "      <td>C123</td>\n",
       "      <td>S</td>\n",
       "    </tr>\n",
       "    <tr>\n",
       "      <th>4</th>\n",
       "      <td>5</td>\n",
       "      <td>0</td>\n",
       "      <td>3</td>\n",
       "      <td>Allen, Mr. William Henry</td>\n",
       "      <td>male</td>\n",
       "      <td>35.0</td>\n",
       "      <td>0</td>\n",
       "      <td>0</td>\n",
       "      <td>373450</td>\n",
       "      <td>8.0500</td>\n",
       "      <td>NaN</td>\n",
       "      <td>S</td>\n",
       "    </tr>\n",
       "  </tbody>\n",
       "</table>\n",
       "</div>"
      ],
      "text/plain": [
       "   PassengerId  Survived  Pclass  \\\n",
       "0            1         0       3   \n",
       "1            2         1       1   \n",
       "2            3         1       3   \n",
       "3            4         1       1   \n",
       "4            5         0       3   \n",
       "\n",
       "                                                Name     Sex   Age  SibSp  \\\n",
       "0                            Braund, Mr. Owen Harris    male  22.0      1   \n",
       "1  Cumings, Mrs. John Bradley (Florence Briggs Th...  female  38.0      1   \n",
       "2                             Heikkinen, Miss. Laina  female  26.0      0   \n",
       "3       Futrelle, Mrs. Jacques Heath (Lily May Peel)  female  35.0      1   \n",
       "4                           Allen, Mr. William Henry    male  35.0      0   \n",
       "\n",
       "   Parch            Ticket     Fare Cabin Embarked  \n",
       "0      0         A/5 21171   7.2500   NaN        S  \n",
       "1      0          PC 17599  71.2833   C85        C  \n",
       "2      0  STON/O2. 3101282   7.9250   NaN        S  \n",
       "3      0            113803  53.1000  C123        S  \n",
       "4      0            373450   8.0500   NaN        S  "
      ]
     },
     "execution_count": 438,
     "metadata": {},
     "output_type": "execute_result"
    }
   ],
   "source": [
    "data.head()"
   ]
  },
  {
   "cell_type": "code",
   "execution_count": 439,
   "metadata": {},
   "outputs": [
    {
     "name": "stdout",
     "output_type": "stream",
     "text": [
      "<class 'pandas.core.frame.DataFrame'>\n",
      "RangeIndex: 891 entries, 0 to 890\n",
      "Data columns (total 12 columns):\n",
      " #   Column       Non-Null Count  Dtype  \n",
      "---  ------       --------------  -----  \n",
      " 0   PassengerId  891 non-null    int64  \n",
      " 1   Survived     891 non-null    int64  \n",
      " 2   Pclass       891 non-null    int64  \n",
      " 3   Name         891 non-null    object \n",
      " 4   Sex          891 non-null    object \n",
      " 5   Age          714 non-null    float64\n",
      " 6   SibSp        891 non-null    int64  \n",
      " 7   Parch        891 non-null    int64  \n",
      " 8   Ticket       891 non-null    object \n",
      " 9   Fare         891 non-null    float64\n",
      " 10  Cabin        204 non-null    object \n",
      " 11  Embarked     889 non-null    object \n",
      "dtypes: float64(2), int64(5), object(5)\n",
      "memory usage: 83.7+ KB\n"
     ]
    }
   ],
   "source": [
    "data.info()"
   ]
  },
  {
   "cell_type": "code",
   "execution_count": 440,
   "metadata": {},
   "outputs": [
    {
     "data": {
      "text/plain": [
       "PassengerId      0\n",
       "Survived         0\n",
       "Pclass           0\n",
       "Name             0\n",
       "Sex              0\n",
       "Age            177\n",
       "SibSp            0\n",
       "Parch            0\n",
       "Ticket           0\n",
       "Fare             0\n",
       "Cabin          687\n",
       "Embarked         2\n",
       "dtype: int64"
      ]
     },
     "execution_count": 440,
     "metadata": {},
     "output_type": "execute_result"
    }
   ],
   "source": [
    "data.isnull().sum()"
   ]
  },
  {
   "cell_type": "code",
   "execution_count": 441,
   "metadata": {},
   "outputs": [],
   "source": [
    "data.drop(['Cabin'],axis=1,inplace=True)"
   ]
  },
  {
   "cell_type": "code",
   "execution_count": 442,
   "metadata": {},
   "outputs": [],
   "source": [
    "#Handling missing Data\n",
    "#Replacing missing value with average of the column\n",
    "from sklearn.impute import SimpleImputer\n",
    "imputer = SimpleImputer(missing_values=np.nan, strategy='mean')\n",
    "\n",
    "imputer.fit(data[['Age']]) #accepts only column with numerical values \n",
    "data['Age'] = imputer.transform(data[['Age']])"
   ]
  },
  {
   "cell_type": "code",
   "execution_count": 443,
   "metadata": {},
   "outputs": [
    {
     "name": "stdout",
     "output_type": "stream",
     "text": [
      "<class 'pandas.core.frame.DataFrame'>\n",
      "RangeIndex: 891 entries, 0 to 890\n",
      "Data columns (total 11 columns):\n",
      " #   Column       Non-Null Count  Dtype  \n",
      "---  ------       --------------  -----  \n",
      " 0   PassengerId  891 non-null    int64  \n",
      " 1   Survived     891 non-null    int64  \n",
      " 2   Pclass       891 non-null    int64  \n",
      " 3   Name         891 non-null    object \n",
      " 4   Sex          891 non-null    object \n",
      " 5   Age          891 non-null    float64\n",
      " 6   SibSp        891 non-null    int64  \n",
      " 7   Parch        891 non-null    int64  \n",
      " 8   Ticket       891 non-null    object \n",
      " 9   Fare         891 non-null    float64\n",
      " 10  Embarked     889 non-null    object \n",
      "dtypes: float64(2), int64(5), object(4)\n",
      "memory usage: 76.7+ KB\n"
     ]
    }
   ],
   "source": [
    "data.info()"
   ]
  },
  {
   "cell_type": "code",
   "execution_count": 444,
   "metadata": {},
   "outputs": [],
   "source": [
    "data.bfill(axis='rows',inplace=True)"
   ]
  },
  {
   "cell_type": "code",
   "execution_count": null,
   "metadata": {},
   "outputs": [],
   "source": []
  },
  {
   "cell_type": "code",
   "execution_count": 445,
   "metadata": {},
   "outputs": [
    {
     "name": "stdout",
     "output_type": "stream",
     "text": [
      "<class 'pandas.core.frame.DataFrame'>\n",
      "RangeIndex: 891 entries, 0 to 890\n",
      "Data columns (total 11 columns):\n",
      " #   Column       Non-Null Count  Dtype  \n",
      "---  ------       --------------  -----  \n",
      " 0   PassengerId  891 non-null    int64  \n",
      " 1   Survived     891 non-null    int64  \n",
      " 2   Pclass       891 non-null    int64  \n",
      " 3   Name         891 non-null    object \n",
      " 4   Sex          891 non-null    object \n",
      " 5   Age          891 non-null    float64\n",
      " 6   SibSp        891 non-null    int64  \n",
      " 7   Parch        891 non-null    int64  \n",
      " 8   Ticket       891 non-null    object \n",
      " 9   Fare         891 non-null    float64\n",
      " 10  Embarked     891 non-null    object \n",
      "dtypes: float64(2), int64(5), object(4)\n",
      "memory usage: 76.7+ KB\n"
     ]
    }
   ],
   "source": [
    "data.info()"
   ]
  },
  {
   "cell_type": "code",
   "execution_count": 446,
   "metadata": {},
   "outputs": [
    {
     "data": {
      "text/html": [
       "<div>\n",
       "<style scoped>\n",
       "    .dataframe tbody tr th:only-of-type {\n",
       "        vertical-align: middle;\n",
       "    }\n",
       "\n",
       "    .dataframe tbody tr th {\n",
       "        vertical-align: top;\n",
       "    }\n",
       "\n",
       "    .dataframe thead th {\n",
       "        text-align: right;\n",
       "    }\n",
       "</style>\n",
       "<table border=\"1\" class=\"dataframe\">\n",
       "  <thead>\n",
       "    <tr style=\"text-align: right;\">\n",
       "      <th></th>\n",
       "      <th>PassengerId</th>\n",
       "      <th>Survived</th>\n",
       "      <th>Pclass</th>\n",
       "      <th>Name</th>\n",
       "      <th>Sex</th>\n",
       "      <th>Age</th>\n",
       "      <th>SibSp</th>\n",
       "      <th>Parch</th>\n",
       "      <th>Ticket</th>\n",
       "      <th>Fare</th>\n",
       "      <th>Embarked</th>\n",
       "    </tr>\n",
       "  </thead>\n",
       "  <tbody>\n",
       "    <tr>\n",
       "      <th>0</th>\n",
       "      <td>1</td>\n",
       "      <td>0</td>\n",
       "      <td>3</td>\n",
       "      <td>Braund, Mr. Owen Harris</td>\n",
       "      <td>male</td>\n",
       "      <td>22.0</td>\n",
       "      <td>1</td>\n",
       "      <td>0</td>\n",
       "      <td>A/5 21171</td>\n",
       "      <td>7.2500</td>\n",
       "      <td>S</td>\n",
       "    </tr>\n",
       "    <tr>\n",
       "      <th>1</th>\n",
       "      <td>2</td>\n",
       "      <td>1</td>\n",
       "      <td>1</td>\n",
       "      <td>Cumings, Mrs. John Bradley (Florence Briggs Th...</td>\n",
       "      <td>female</td>\n",
       "      <td>38.0</td>\n",
       "      <td>1</td>\n",
       "      <td>0</td>\n",
       "      <td>PC 17599</td>\n",
       "      <td>71.2833</td>\n",
       "      <td>C</td>\n",
       "    </tr>\n",
       "    <tr>\n",
       "      <th>2</th>\n",
       "      <td>3</td>\n",
       "      <td>1</td>\n",
       "      <td>3</td>\n",
       "      <td>Heikkinen, Miss. Laina</td>\n",
       "      <td>female</td>\n",
       "      <td>26.0</td>\n",
       "      <td>0</td>\n",
       "      <td>0</td>\n",
       "      <td>STON/O2. 3101282</td>\n",
       "      <td>7.9250</td>\n",
       "      <td>S</td>\n",
       "    </tr>\n",
       "    <tr>\n",
       "      <th>3</th>\n",
       "      <td>4</td>\n",
       "      <td>1</td>\n",
       "      <td>1</td>\n",
       "      <td>Futrelle, Mrs. Jacques Heath (Lily May Peel)</td>\n",
       "      <td>female</td>\n",
       "      <td>35.0</td>\n",
       "      <td>1</td>\n",
       "      <td>0</td>\n",
       "      <td>113803</td>\n",
       "      <td>53.1000</td>\n",
       "      <td>S</td>\n",
       "    </tr>\n",
       "    <tr>\n",
       "      <th>4</th>\n",
       "      <td>5</td>\n",
       "      <td>0</td>\n",
       "      <td>3</td>\n",
       "      <td>Allen, Mr. William Henry</td>\n",
       "      <td>male</td>\n",
       "      <td>35.0</td>\n",
       "      <td>0</td>\n",
       "      <td>0</td>\n",
       "      <td>373450</td>\n",
       "      <td>8.0500</td>\n",
       "      <td>S</td>\n",
       "    </tr>\n",
       "  </tbody>\n",
       "</table>\n",
       "</div>"
      ],
      "text/plain": [
       "   PassengerId  Survived  Pclass  \\\n",
       "0            1         0       3   \n",
       "1            2         1       1   \n",
       "2            3         1       3   \n",
       "3            4         1       1   \n",
       "4            5         0       3   \n",
       "\n",
       "                                                Name     Sex   Age  SibSp  \\\n",
       "0                            Braund, Mr. Owen Harris    male  22.0      1   \n",
       "1  Cumings, Mrs. John Bradley (Florence Briggs Th...  female  38.0      1   \n",
       "2                             Heikkinen, Miss. Laina  female  26.0      0   \n",
       "3       Futrelle, Mrs. Jacques Heath (Lily May Peel)  female  35.0      1   \n",
       "4                           Allen, Mr. William Henry    male  35.0      0   \n",
       "\n",
       "   Parch            Ticket     Fare Embarked  \n",
       "0      0         A/5 21171   7.2500        S  \n",
       "1      0          PC 17599  71.2833        C  \n",
       "2      0  STON/O2. 3101282   7.9250        S  \n",
       "3      0            113803  53.1000        S  \n",
       "4      0            373450   8.0500        S  "
      ]
     },
     "execution_count": 446,
     "metadata": {},
     "output_type": "execute_result"
    }
   ],
   "source": [
    "data.head()"
   ]
  },
  {
   "cell_type": "code",
   "execution_count": 447,
   "metadata": {},
   "outputs": [],
   "source": [
    "data.drop(['Name'],axis=1,inplace=True)"
   ]
  },
  {
   "cell_type": "code",
   "execution_count": 448,
   "metadata": {},
   "outputs": [
    {
     "data": {
      "text/html": [
       "<div>\n",
       "<style scoped>\n",
       "    .dataframe tbody tr th:only-of-type {\n",
       "        vertical-align: middle;\n",
       "    }\n",
       "\n",
       "    .dataframe tbody tr th {\n",
       "        vertical-align: top;\n",
       "    }\n",
       "\n",
       "    .dataframe thead th {\n",
       "        text-align: right;\n",
       "    }\n",
       "</style>\n",
       "<table border=\"1\" class=\"dataframe\">\n",
       "  <thead>\n",
       "    <tr style=\"text-align: right;\">\n",
       "      <th></th>\n",
       "      <th>PassengerId</th>\n",
       "      <th>Survived</th>\n",
       "      <th>Pclass</th>\n",
       "      <th>Sex</th>\n",
       "      <th>Age</th>\n",
       "      <th>SibSp</th>\n",
       "      <th>Parch</th>\n",
       "      <th>Ticket</th>\n",
       "      <th>Fare</th>\n",
       "      <th>Embarked</th>\n",
       "    </tr>\n",
       "  </thead>\n",
       "  <tbody>\n",
       "    <tr>\n",
       "      <th>0</th>\n",
       "      <td>1</td>\n",
       "      <td>0</td>\n",
       "      <td>3</td>\n",
       "      <td>male</td>\n",
       "      <td>22.0</td>\n",
       "      <td>1</td>\n",
       "      <td>0</td>\n",
       "      <td>A/5 21171</td>\n",
       "      <td>7.2500</td>\n",
       "      <td>S</td>\n",
       "    </tr>\n",
       "    <tr>\n",
       "      <th>1</th>\n",
       "      <td>2</td>\n",
       "      <td>1</td>\n",
       "      <td>1</td>\n",
       "      <td>female</td>\n",
       "      <td>38.0</td>\n",
       "      <td>1</td>\n",
       "      <td>0</td>\n",
       "      <td>PC 17599</td>\n",
       "      <td>71.2833</td>\n",
       "      <td>C</td>\n",
       "    </tr>\n",
       "    <tr>\n",
       "      <th>2</th>\n",
       "      <td>3</td>\n",
       "      <td>1</td>\n",
       "      <td>3</td>\n",
       "      <td>female</td>\n",
       "      <td>26.0</td>\n",
       "      <td>0</td>\n",
       "      <td>0</td>\n",
       "      <td>STON/O2. 3101282</td>\n",
       "      <td>7.9250</td>\n",
       "      <td>S</td>\n",
       "    </tr>\n",
       "    <tr>\n",
       "      <th>3</th>\n",
       "      <td>4</td>\n",
       "      <td>1</td>\n",
       "      <td>1</td>\n",
       "      <td>female</td>\n",
       "      <td>35.0</td>\n",
       "      <td>1</td>\n",
       "      <td>0</td>\n",
       "      <td>113803</td>\n",
       "      <td>53.1000</td>\n",
       "      <td>S</td>\n",
       "    </tr>\n",
       "    <tr>\n",
       "      <th>4</th>\n",
       "      <td>5</td>\n",
       "      <td>0</td>\n",
       "      <td>3</td>\n",
       "      <td>male</td>\n",
       "      <td>35.0</td>\n",
       "      <td>0</td>\n",
       "      <td>0</td>\n",
       "      <td>373450</td>\n",
       "      <td>8.0500</td>\n",
       "      <td>S</td>\n",
       "    </tr>\n",
       "  </tbody>\n",
       "</table>\n",
       "</div>"
      ],
      "text/plain": [
       "   PassengerId  Survived  Pclass     Sex   Age  SibSp  Parch  \\\n",
       "0            1         0       3    male  22.0      1      0   \n",
       "1            2         1       1  female  38.0      1      0   \n",
       "2            3         1       3  female  26.0      0      0   \n",
       "3            4         1       1  female  35.0      1      0   \n",
       "4            5         0       3    male  35.0      0      0   \n",
       "\n",
       "             Ticket     Fare Embarked  \n",
       "0         A/5 21171   7.2500        S  \n",
       "1          PC 17599  71.2833        C  \n",
       "2  STON/O2. 3101282   7.9250        S  \n",
       "3            113803  53.1000        S  \n",
       "4            373450   8.0500        S  "
      ]
     },
     "execution_count": 448,
     "metadata": {},
     "output_type": "execute_result"
    }
   ],
   "source": [
    "data.head()"
   ]
  },
  {
   "cell_type": "code",
   "execution_count": 449,
   "metadata": {},
   "outputs": [
    {
     "data": {
      "text/html": [
       "<div>\n",
       "<style scoped>\n",
       "    .dataframe tbody tr th:only-of-type {\n",
       "        vertical-align: middle;\n",
       "    }\n",
       "\n",
       "    .dataframe tbody tr th {\n",
       "        vertical-align: top;\n",
       "    }\n",
       "\n",
       "    .dataframe thead th {\n",
       "        text-align: right;\n",
       "    }\n",
       "</style>\n",
       "<table border=\"1\" class=\"dataframe\">\n",
       "  <thead>\n",
       "    <tr style=\"text-align: right;\">\n",
       "      <th></th>\n",
       "      <th>Sex_male</th>\n",
       "    </tr>\n",
       "  </thead>\n",
       "  <tbody>\n",
       "    <tr>\n",
       "      <th>0</th>\n",
       "      <td>1</td>\n",
       "    </tr>\n",
       "    <tr>\n",
       "      <th>1</th>\n",
       "      <td>0</td>\n",
       "    </tr>\n",
       "    <tr>\n",
       "      <th>2</th>\n",
       "      <td>0</td>\n",
       "    </tr>\n",
       "    <tr>\n",
       "      <th>3</th>\n",
       "      <td>0</td>\n",
       "    </tr>\n",
       "    <tr>\n",
       "      <th>4</th>\n",
       "      <td>1</td>\n",
       "    </tr>\n",
       "  </tbody>\n",
       "</table>\n",
       "</div>"
      ],
      "text/plain": [
       "   Sex_male\n",
       "0         1\n",
       "1         0\n",
       "2         0\n",
       "3         0\n",
       "4         1"
      ]
     },
     "execution_count": 449,
     "metadata": {},
     "output_type": "execute_result"
    }
   ],
   "source": [
    "## one hot encoding for Sex\n",
    "sex = data[['Sex']]\n",
    "sex = pd.get_dummies(sex,drop_first=True)\n",
    "sex.head()"
   ]
  },
  {
   "cell_type": "code",
   "execution_count": 450,
   "metadata": {},
   "outputs": [],
   "source": [
    "data.drop(['Sex'],axis=1,inplace=True)"
   ]
  },
  {
   "cell_type": "code",
   "execution_count": 451,
   "metadata": {},
   "outputs": [
    {
     "data": {
      "text/plain": [
       "S    645\n",
       "C    169\n",
       "Q     77\n",
       "Name: Embarked, dtype: int64"
      ]
     },
     "execution_count": 451,
     "metadata": {},
     "output_type": "execute_result"
    }
   ],
   "source": [
    "data['Embarked'].value_counts()"
   ]
  },
  {
   "cell_type": "code",
   "execution_count": 452,
   "metadata": {},
   "outputs": [],
   "source": [
    "data.replace({'S':1,'C':2,'Q':3},inplace=True)"
   ]
  },
  {
   "cell_type": "code",
   "execution_count": 453,
   "metadata": {},
   "outputs": [
    {
     "name": "stdout",
     "output_type": "stream",
     "text": [
      "<class 'pandas.core.frame.DataFrame'>\n",
      "RangeIndex: 891 entries, 0 to 890\n",
      "Data columns (total 9 columns):\n",
      " #   Column       Non-Null Count  Dtype  \n",
      "---  ------       --------------  -----  \n",
      " 0   PassengerId  891 non-null    int64  \n",
      " 1   Survived     891 non-null    int64  \n",
      " 2   Pclass       891 non-null    int64  \n",
      " 3   Age          891 non-null    float64\n",
      " 4   SibSp        891 non-null    int64  \n",
      " 5   Parch        891 non-null    int64  \n",
      " 6   Ticket       891 non-null    object \n",
      " 7   Fare         891 non-null    float64\n",
      " 8   Embarked     891 non-null    int64  \n",
      "dtypes: float64(2), int64(6), object(1)\n",
      "memory usage: 62.8+ KB\n"
     ]
    }
   ],
   "source": [
    "data.info()"
   ]
  },
  {
   "cell_type": "code",
   "execution_count": 454,
   "metadata": {},
   "outputs": [
    {
     "data": {
      "text/plain": [
       "1    645\n",
       "2    169\n",
       "3     77\n",
       "Name: Embarked, dtype: int64"
      ]
     },
     "execution_count": 454,
     "metadata": {},
     "output_type": "execute_result"
    }
   ],
   "source": [
    "data['Embarked'].value_counts()"
   ]
  },
  {
   "cell_type": "code",
   "execution_count": 455,
   "metadata": {},
   "outputs": [
    {
     "data": {
      "text/plain": [
       "347082        7\n",
       "1601          7\n",
       "CA. 2343      7\n",
       "347088        6\n",
       "3101295       6\n",
       "             ..\n",
       "C.A. 29395    1\n",
       "371060        1\n",
       "335097        1\n",
       "PC 17475      1\n",
       "PC 17318      1\n",
       "Name: Ticket, Length: 681, dtype: int64"
      ]
     },
     "execution_count": 455,
     "metadata": {},
     "output_type": "execute_result"
    }
   ],
   "source": [
    "data['Ticket'].value_counts()"
   ]
  },
  {
   "cell_type": "code",
   "execution_count": 456,
   "metadata": {},
   "outputs": [
    {
     "data": {
      "text/html": [
       "<div>\n",
       "<style scoped>\n",
       "    .dataframe tbody tr th:only-of-type {\n",
       "        vertical-align: middle;\n",
       "    }\n",
       "\n",
       "    .dataframe tbody tr th {\n",
       "        vertical-align: top;\n",
       "    }\n",
       "\n",
       "    .dataframe thead th {\n",
       "        text-align: right;\n",
       "    }\n",
       "</style>\n",
       "<table border=\"1\" class=\"dataframe\">\n",
       "  <thead>\n",
       "    <tr style=\"text-align: right;\">\n",
       "      <th></th>\n",
       "      <th>Ticket_110413</th>\n",
       "      <th>Ticket_110465</th>\n",
       "      <th>Ticket_110564</th>\n",
       "      <th>Ticket_110813</th>\n",
       "      <th>Ticket_111240</th>\n",
       "      <th>Ticket_111320</th>\n",
       "      <th>Ticket_111361</th>\n",
       "      <th>Ticket_111369</th>\n",
       "      <th>Ticket_111426</th>\n",
       "      <th>Ticket_111427</th>\n",
       "      <th>...</th>\n",
       "      <th>Ticket_STON/O2. 3101290</th>\n",
       "      <th>Ticket_SW/PP 751</th>\n",
       "      <th>Ticket_W./C. 14258</th>\n",
       "      <th>Ticket_W./C. 14263</th>\n",
       "      <th>Ticket_W./C. 6607</th>\n",
       "      <th>Ticket_W./C. 6608</th>\n",
       "      <th>Ticket_W./C. 6609</th>\n",
       "      <th>Ticket_W.E.P. 5734</th>\n",
       "      <th>Ticket_W/C 14208</th>\n",
       "      <th>Ticket_WE/P 5735</th>\n",
       "    </tr>\n",
       "  </thead>\n",
       "  <tbody>\n",
       "    <tr>\n",
       "      <th>0</th>\n",
       "      <td>0</td>\n",
       "      <td>0</td>\n",
       "      <td>0</td>\n",
       "      <td>0</td>\n",
       "      <td>0</td>\n",
       "      <td>0</td>\n",
       "      <td>0</td>\n",
       "      <td>0</td>\n",
       "      <td>0</td>\n",
       "      <td>0</td>\n",
       "      <td>...</td>\n",
       "      <td>0</td>\n",
       "      <td>0</td>\n",
       "      <td>0</td>\n",
       "      <td>0</td>\n",
       "      <td>0</td>\n",
       "      <td>0</td>\n",
       "      <td>0</td>\n",
       "      <td>0</td>\n",
       "      <td>0</td>\n",
       "      <td>0</td>\n",
       "    </tr>\n",
       "    <tr>\n",
       "      <th>1</th>\n",
       "      <td>0</td>\n",
       "      <td>0</td>\n",
       "      <td>0</td>\n",
       "      <td>0</td>\n",
       "      <td>0</td>\n",
       "      <td>0</td>\n",
       "      <td>0</td>\n",
       "      <td>0</td>\n",
       "      <td>0</td>\n",
       "      <td>0</td>\n",
       "      <td>...</td>\n",
       "      <td>0</td>\n",
       "      <td>0</td>\n",
       "      <td>0</td>\n",
       "      <td>0</td>\n",
       "      <td>0</td>\n",
       "      <td>0</td>\n",
       "      <td>0</td>\n",
       "      <td>0</td>\n",
       "      <td>0</td>\n",
       "      <td>0</td>\n",
       "    </tr>\n",
       "    <tr>\n",
       "      <th>2</th>\n",
       "      <td>0</td>\n",
       "      <td>0</td>\n",
       "      <td>0</td>\n",
       "      <td>0</td>\n",
       "      <td>0</td>\n",
       "      <td>0</td>\n",
       "      <td>0</td>\n",
       "      <td>0</td>\n",
       "      <td>0</td>\n",
       "      <td>0</td>\n",
       "      <td>...</td>\n",
       "      <td>0</td>\n",
       "      <td>0</td>\n",
       "      <td>0</td>\n",
       "      <td>0</td>\n",
       "      <td>0</td>\n",
       "      <td>0</td>\n",
       "      <td>0</td>\n",
       "      <td>0</td>\n",
       "      <td>0</td>\n",
       "      <td>0</td>\n",
       "    </tr>\n",
       "    <tr>\n",
       "      <th>3</th>\n",
       "      <td>0</td>\n",
       "      <td>0</td>\n",
       "      <td>0</td>\n",
       "      <td>0</td>\n",
       "      <td>0</td>\n",
       "      <td>0</td>\n",
       "      <td>0</td>\n",
       "      <td>0</td>\n",
       "      <td>0</td>\n",
       "      <td>0</td>\n",
       "      <td>...</td>\n",
       "      <td>0</td>\n",
       "      <td>0</td>\n",
       "      <td>0</td>\n",
       "      <td>0</td>\n",
       "      <td>0</td>\n",
       "      <td>0</td>\n",
       "      <td>0</td>\n",
       "      <td>0</td>\n",
       "      <td>0</td>\n",
       "      <td>0</td>\n",
       "    </tr>\n",
       "    <tr>\n",
       "      <th>4</th>\n",
       "      <td>0</td>\n",
       "      <td>0</td>\n",
       "      <td>0</td>\n",
       "      <td>0</td>\n",
       "      <td>0</td>\n",
       "      <td>0</td>\n",
       "      <td>0</td>\n",
       "      <td>0</td>\n",
       "      <td>0</td>\n",
       "      <td>0</td>\n",
       "      <td>...</td>\n",
       "      <td>0</td>\n",
       "      <td>0</td>\n",
       "      <td>0</td>\n",
       "      <td>0</td>\n",
       "      <td>0</td>\n",
       "      <td>0</td>\n",
       "      <td>0</td>\n",
       "      <td>0</td>\n",
       "      <td>0</td>\n",
       "      <td>0</td>\n",
       "    </tr>\n",
       "  </tbody>\n",
       "</table>\n",
       "<p>5 rows × 680 columns</p>\n",
       "</div>"
      ],
      "text/plain": [
       "   Ticket_110413  Ticket_110465  Ticket_110564  Ticket_110813  Ticket_111240  \\\n",
       "0              0              0              0              0              0   \n",
       "1              0              0              0              0              0   \n",
       "2              0              0              0              0              0   \n",
       "3              0              0              0              0              0   \n",
       "4              0              0              0              0              0   \n",
       "\n",
       "   Ticket_111320  Ticket_111361  Ticket_111369  Ticket_111426  Ticket_111427  \\\n",
       "0              0              0              0              0              0   \n",
       "1              0              0              0              0              0   \n",
       "2              0              0              0              0              0   \n",
       "3              0              0              0              0              0   \n",
       "4              0              0              0              0              0   \n",
       "\n",
       "   ...  Ticket_STON/O2. 3101290  Ticket_SW/PP 751  Ticket_W./C. 14258  \\\n",
       "0  ...                        0                 0                   0   \n",
       "1  ...                        0                 0                   0   \n",
       "2  ...                        0                 0                   0   \n",
       "3  ...                        0                 0                   0   \n",
       "4  ...                        0                 0                   0   \n",
       "\n",
       "   Ticket_W./C. 14263  Ticket_W./C. 6607  Ticket_W./C. 6608  \\\n",
       "0                   0                  0                  0   \n",
       "1                   0                  0                  0   \n",
       "2                   0                  0                  0   \n",
       "3                   0                  0                  0   \n",
       "4                   0                  0                  0   \n",
       "\n",
       "   Ticket_W./C. 6609  Ticket_W.E.P. 5734  Ticket_W/C 14208  Ticket_WE/P 5735  \n",
       "0                  0                   0                 0                 0  \n",
       "1                  0                   0                 0                 0  \n",
       "2                  0                   0                 0                 0  \n",
       "3                  0                   0                 0                 0  \n",
       "4                  0                   0                 0                 0  \n",
       "\n",
       "[5 rows x 680 columns]"
      ]
     },
     "execution_count": 456,
     "metadata": {},
     "output_type": "execute_result"
    }
   ],
   "source": [
    "tickets = data[['Ticket']]\n",
    "tickets = pd.get_dummies(tickets,drop_first=True)\n",
    "tickets.head()"
   ]
  },
  {
   "cell_type": "code",
   "execution_count": 457,
   "metadata": {},
   "outputs": [],
   "source": [
    "data.drop(['Ticket'],axis=1,inplace=True)"
   ]
  },
  {
   "cell_type": "code",
   "execution_count": 458,
   "metadata": {},
   "outputs": [],
   "source": [
    "data_train = pd.concat([data,sex,tickets],axis=1)"
   ]
  },
  {
   "cell_type": "code",
   "execution_count": 459,
   "metadata": {},
   "outputs": [
    {
     "data": {
      "text/html": [
       "<div>\n",
       "<style scoped>\n",
       "    .dataframe tbody tr th:only-of-type {\n",
       "        vertical-align: middle;\n",
       "    }\n",
       "\n",
       "    .dataframe tbody tr th {\n",
       "        vertical-align: top;\n",
       "    }\n",
       "\n",
       "    .dataframe thead th {\n",
       "        text-align: right;\n",
       "    }\n",
       "</style>\n",
       "<table border=\"1\" class=\"dataframe\">\n",
       "  <thead>\n",
       "    <tr style=\"text-align: right;\">\n",
       "      <th></th>\n",
       "      <th>PassengerId</th>\n",
       "      <th>Survived</th>\n",
       "      <th>Pclass</th>\n",
       "      <th>Age</th>\n",
       "      <th>SibSp</th>\n",
       "      <th>Parch</th>\n",
       "      <th>Fare</th>\n",
       "      <th>Embarked</th>\n",
       "      <th>Sex_male</th>\n",
       "      <th>Ticket_110413</th>\n",
       "      <th>...</th>\n",
       "      <th>Ticket_STON/O2. 3101290</th>\n",
       "      <th>Ticket_SW/PP 751</th>\n",
       "      <th>Ticket_W./C. 14258</th>\n",
       "      <th>Ticket_W./C. 14263</th>\n",
       "      <th>Ticket_W./C. 6607</th>\n",
       "      <th>Ticket_W./C. 6608</th>\n",
       "      <th>Ticket_W./C. 6609</th>\n",
       "      <th>Ticket_W.E.P. 5734</th>\n",
       "      <th>Ticket_W/C 14208</th>\n",
       "      <th>Ticket_WE/P 5735</th>\n",
       "    </tr>\n",
       "  </thead>\n",
       "  <tbody>\n",
       "    <tr>\n",
       "      <th>0</th>\n",
       "      <td>1</td>\n",
       "      <td>0</td>\n",
       "      <td>3</td>\n",
       "      <td>22.0</td>\n",
       "      <td>1</td>\n",
       "      <td>0</td>\n",
       "      <td>7.2500</td>\n",
       "      <td>1</td>\n",
       "      <td>1</td>\n",
       "      <td>0</td>\n",
       "      <td>...</td>\n",
       "      <td>0</td>\n",
       "      <td>0</td>\n",
       "      <td>0</td>\n",
       "      <td>0</td>\n",
       "      <td>0</td>\n",
       "      <td>0</td>\n",
       "      <td>0</td>\n",
       "      <td>0</td>\n",
       "      <td>0</td>\n",
       "      <td>0</td>\n",
       "    </tr>\n",
       "    <tr>\n",
       "      <th>1</th>\n",
       "      <td>2</td>\n",
       "      <td>1</td>\n",
       "      <td>1</td>\n",
       "      <td>38.0</td>\n",
       "      <td>1</td>\n",
       "      <td>0</td>\n",
       "      <td>71.2833</td>\n",
       "      <td>2</td>\n",
       "      <td>0</td>\n",
       "      <td>0</td>\n",
       "      <td>...</td>\n",
       "      <td>0</td>\n",
       "      <td>0</td>\n",
       "      <td>0</td>\n",
       "      <td>0</td>\n",
       "      <td>0</td>\n",
       "      <td>0</td>\n",
       "      <td>0</td>\n",
       "      <td>0</td>\n",
       "      <td>0</td>\n",
       "      <td>0</td>\n",
       "    </tr>\n",
       "    <tr>\n",
       "      <th>2</th>\n",
       "      <td>3</td>\n",
       "      <td>1</td>\n",
       "      <td>3</td>\n",
       "      <td>26.0</td>\n",
       "      <td>0</td>\n",
       "      <td>0</td>\n",
       "      <td>7.9250</td>\n",
       "      <td>1</td>\n",
       "      <td>0</td>\n",
       "      <td>0</td>\n",
       "      <td>...</td>\n",
       "      <td>0</td>\n",
       "      <td>0</td>\n",
       "      <td>0</td>\n",
       "      <td>0</td>\n",
       "      <td>0</td>\n",
       "      <td>0</td>\n",
       "      <td>0</td>\n",
       "      <td>0</td>\n",
       "      <td>0</td>\n",
       "      <td>0</td>\n",
       "    </tr>\n",
       "    <tr>\n",
       "      <th>3</th>\n",
       "      <td>4</td>\n",
       "      <td>1</td>\n",
       "      <td>1</td>\n",
       "      <td>35.0</td>\n",
       "      <td>1</td>\n",
       "      <td>0</td>\n",
       "      <td>53.1000</td>\n",
       "      <td>1</td>\n",
       "      <td>0</td>\n",
       "      <td>0</td>\n",
       "      <td>...</td>\n",
       "      <td>0</td>\n",
       "      <td>0</td>\n",
       "      <td>0</td>\n",
       "      <td>0</td>\n",
       "      <td>0</td>\n",
       "      <td>0</td>\n",
       "      <td>0</td>\n",
       "      <td>0</td>\n",
       "      <td>0</td>\n",
       "      <td>0</td>\n",
       "    </tr>\n",
       "    <tr>\n",
       "      <th>4</th>\n",
       "      <td>5</td>\n",
       "      <td>0</td>\n",
       "      <td>3</td>\n",
       "      <td>35.0</td>\n",
       "      <td>0</td>\n",
       "      <td>0</td>\n",
       "      <td>8.0500</td>\n",
       "      <td>1</td>\n",
       "      <td>1</td>\n",
       "      <td>0</td>\n",
       "      <td>...</td>\n",
       "      <td>0</td>\n",
       "      <td>0</td>\n",
       "      <td>0</td>\n",
       "      <td>0</td>\n",
       "      <td>0</td>\n",
       "      <td>0</td>\n",
       "      <td>0</td>\n",
       "      <td>0</td>\n",
       "      <td>0</td>\n",
       "      <td>0</td>\n",
       "    </tr>\n",
       "  </tbody>\n",
       "</table>\n",
       "<p>5 rows × 689 columns</p>\n",
       "</div>"
      ],
      "text/plain": [
       "   PassengerId  Survived  Pclass   Age  SibSp  Parch     Fare  Embarked  \\\n",
       "0            1         0       3  22.0      1      0   7.2500         1   \n",
       "1            2         1       1  38.0      1      0  71.2833         2   \n",
       "2            3         1       3  26.0      0      0   7.9250         1   \n",
       "3            4         1       1  35.0      1      0  53.1000         1   \n",
       "4            5         0       3  35.0      0      0   8.0500         1   \n",
       "\n",
       "   Sex_male  Ticket_110413  ...  Ticket_STON/O2. 3101290  Ticket_SW/PP 751  \\\n",
       "0         1              0  ...                        0                 0   \n",
       "1         0              0  ...                        0                 0   \n",
       "2         0              0  ...                        0                 0   \n",
       "3         0              0  ...                        0                 0   \n",
       "4         1              0  ...                        0                 0   \n",
       "\n",
       "   Ticket_W./C. 14258  Ticket_W./C. 14263  Ticket_W./C. 6607  \\\n",
       "0                   0                   0                  0   \n",
       "1                   0                   0                  0   \n",
       "2                   0                   0                  0   \n",
       "3                   0                   0                  0   \n",
       "4                   0                   0                  0   \n",
       "\n",
       "   Ticket_W./C. 6608  Ticket_W./C. 6609  Ticket_W.E.P. 5734  Ticket_W/C 14208  \\\n",
       "0                  0                  0                   0                 0   \n",
       "1                  0                  0                   0                 0   \n",
       "2                  0                  0                   0                 0   \n",
       "3                  0                  0                   0                 0   \n",
       "4                  0                  0                   0                 0   \n",
       "\n",
       "   Ticket_WE/P 5735  \n",
       "0                 0  \n",
       "1                 0  \n",
       "2                 0  \n",
       "3                 0  \n",
       "4                 0  \n",
       "\n",
       "[5 rows x 689 columns]"
      ]
     },
     "execution_count": 459,
     "metadata": {},
     "output_type": "execute_result"
    }
   ],
   "source": [
    "data_train.head()"
   ]
  },
  {
   "cell_type": "code",
   "execution_count": 460,
   "metadata": {},
   "outputs": [
    {
     "data": {
      "text/plain": [
       "Index(['PassengerId', 'Survived', 'Pclass', 'Age', 'SibSp', 'Parch', 'Fare',\n",
       "       'Embarked'],\n",
       "      dtype='object')"
      ]
     },
     "execution_count": 460,
     "metadata": {},
     "output_type": "execute_result"
    }
   ],
   "source": [
    "data.columns\n"
   ]
  },
  {
   "cell_type": "markdown",
   "metadata": {},
   "source": [
    "### Feature selection using Information gain"
   ]
  },
  {
   "cell_type": "code",
   "execution_count": 461,
   "metadata": {},
   "outputs": [
    {
     "data": {
      "text/plain": [
       "PassengerId    66231.000000\n",
       "Survived           0.236772\n",
       "Pclass             0.699015\n",
       "Age              169.052400\n",
       "SibSp              1.216043\n",
       "Parch              0.649728\n",
       "Fare            2469.436846\n",
       "Embarked           0.404391\n",
       "dtype: float64"
      ]
     },
     "execution_count": 461,
     "metadata": {},
     "output_type": "execute_result"
    }
   ],
   "source": [
    "data.var()"
   ]
  },
  {
   "cell_type": "markdown",
   "metadata": {},
   "source": [
    "### Mutual info btw 2 random variables is a non negative value, which measures the dependency btw the variables. 0 if they are independent"
   ]
  },
  {
   "cell_type": "code",
   "execution_count": 462,
   "metadata": {},
   "outputs": [],
   "source": [
    "#Splitting dataset into training and test set \n",
    "from sklearn.model_selection import train_test_split\n",
    "X_train, X_test, Y_train, Y_test = train_test_split(data_train.drop(labels=['Survived'],axis=1),data_train['Survived'],test_size=0.3,random_state=1)\n"
   ]
  },
  {
   "cell_type": "code",
   "execution_count": 463,
   "metadata": {},
   "outputs": [
    {
     "data": {
      "text/html": [
       "<div>\n",
       "<style scoped>\n",
       "    .dataframe tbody tr th:only-of-type {\n",
       "        vertical-align: middle;\n",
       "    }\n",
       "\n",
       "    .dataframe tbody tr th {\n",
       "        vertical-align: top;\n",
       "    }\n",
       "\n",
       "    .dataframe thead th {\n",
       "        text-align: right;\n",
       "    }\n",
       "</style>\n",
       "<table border=\"1\" class=\"dataframe\">\n",
       "  <thead>\n",
       "    <tr style=\"text-align: right;\">\n",
       "      <th></th>\n",
       "      <th>PassengerId</th>\n",
       "      <th>Pclass</th>\n",
       "      <th>Age</th>\n",
       "      <th>SibSp</th>\n",
       "      <th>Parch</th>\n",
       "      <th>Fare</th>\n",
       "      <th>Embarked</th>\n",
       "      <th>Sex_male</th>\n",
       "      <th>Ticket_110413</th>\n",
       "      <th>Ticket_110465</th>\n",
       "      <th>...</th>\n",
       "      <th>Ticket_STON/O2. 3101290</th>\n",
       "      <th>Ticket_SW/PP 751</th>\n",
       "      <th>Ticket_W./C. 14258</th>\n",
       "      <th>Ticket_W./C. 14263</th>\n",
       "      <th>Ticket_W./C. 6607</th>\n",
       "      <th>Ticket_W./C. 6608</th>\n",
       "      <th>Ticket_W./C. 6609</th>\n",
       "      <th>Ticket_W.E.P. 5734</th>\n",
       "      <th>Ticket_W/C 14208</th>\n",
       "      <th>Ticket_WE/P 5735</th>\n",
       "    </tr>\n",
       "  </thead>\n",
       "  <tbody>\n",
       "    <tr>\n",
       "      <th>114</th>\n",
       "      <td>115</td>\n",
       "      <td>3</td>\n",
       "      <td>17.000000</td>\n",
       "      <td>0</td>\n",
       "      <td>0</td>\n",
       "      <td>14.4583</td>\n",
       "      <td>2</td>\n",
       "      <td>0</td>\n",
       "      <td>0</td>\n",
       "      <td>0</td>\n",
       "      <td>...</td>\n",
       "      <td>0</td>\n",
       "      <td>0</td>\n",
       "      <td>0</td>\n",
       "      <td>0</td>\n",
       "      <td>0</td>\n",
       "      <td>0</td>\n",
       "      <td>0</td>\n",
       "      <td>0</td>\n",
       "      <td>0</td>\n",
       "      <td>0</td>\n",
       "    </tr>\n",
       "    <tr>\n",
       "      <th>874</th>\n",
       "      <td>875</td>\n",
       "      <td>2</td>\n",
       "      <td>28.000000</td>\n",
       "      <td>1</td>\n",
       "      <td>0</td>\n",
       "      <td>24.0000</td>\n",
       "      <td>2</td>\n",
       "      <td>0</td>\n",
       "      <td>0</td>\n",
       "      <td>0</td>\n",
       "      <td>...</td>\n",
       "      <td>0</td>\n",
       "      <td>0</td>\n",
       "      <td>0</td>\n",
       "      <td>0</td>\n",
       "      <td>0</td>\n",
       "      <td>0</td>\n",
       "      <td>0</td>\n",
       "      <td>0</td>\n",
       "      <td>0</td>\n",
       "      <td>0</td>\n",
       "    </tr>\n",
       "    <tr>\n",
       "      <th>76</th>\n",
       "      <td>77</td>\n",
       "      <td>3</td>\n",
       "      <td>29.699118</td>\n",
       "      <td>0</td>\n",
       "      <td>0</td>\n",
       "      <td>7.8958</td>\n",
       "      <td>1</td>\n",
       "      <td>1</td>\n",
       "      <td>0</td>\n",
       "      <td>0</td>\n",
       "      <td>...</td>\n",
       "      <td>0</td>\n",
       "      <td>0</td>\n",
       "      <td>0</td>\n",
       "      <td>0</td>\n",
       "      <td>0</td>\n",
       "      <td>0</td>\n",
       "      <td>0</td>\n",
       "      <td>0</td>\n",
       "      <td>0</td>\n",
       "      <td>0</td>\n",
       "    </tr>\n",
       "    <tr>\n",
       "      <th>876</th>\n",
       "      <td>877</td>\n",
       "      <td>3</td>\n",
       "      <td>20.000000</td>\n",
       "      <td>0</td>\n",
       "      <td>0</td>\n",
       "      <td>9.8458</td>\n",
       "      <td>1</td>\n",
       "      <td>1</td>\n",
       "      <td>0</td>\n",
       "      <td>0</td>\n",
       "      <td>...</td>\n",
       "      <td>0</td>\n",
       "      <td>0</td>\n",
       "      <td>0</td>\n",
       "      <td>0</td>\n",
       "      <td>0</td>\n",
       "      <td>0</td>\n",
       "      <td>0</td>\n",
       "      <td>0</td>\n",
       "      <td>0</td>\n",
       "      <td>0</td>\n",
       "    </tr>\n",
       "    <tr>\n",
       "      <th>674</th>\n",
       "      <td>675</td>\n",
       "      <td>2</td>\n",
       "      <td>29.699118</td>\n",
       "      <td>0</td>\n",
       "      <td>0</td>\n",
       "      <td>0.0000</td>\n",
       "      <td>1</td>\n",
       "      <td>1</td>\n",
       "      <td>0</td>\n",
       "      <td>0</td>\n",
       "      <td>...</td>\n",
       "      <td>0</td>\n",
       "      <td>0</td>\n",
       "      <td>0</td>\n",
       "      <td>0</td>\n",
       "      <td>0</td>\n",
       "      <td>0</td>\n",
       "      <td>0</td>\n",
       "      <td>0</td>\n",
       "      <td>0</td>\n",
       "      <td>0</td>\n",
       "    </tr>\n",
       "  </tbody>\n",
       "</table>\n",
       "<p>5 rows × 688 columns</p>\n",
       "</div>"
      ],
      "text/plain": [
       "     PassengerId  Pclass        Age  SibSp  Parch     Fare  Embarked  \\\n",
       "114          115       3  17.000000      0      0  14.4583         2   \n",
       "874          875       2  28.000000      1      0  24.0000         2   \n",
       "76            77       3  29.699118      0      0   7.8958         1   \n",
       "876          877       3  20.000000      0      0   9.8458         1   \n",
       "674          675       2  29.699118      0      0   0.0000         1   \n",
       "\n",
       "     Sex_male  Ticket_110413  Ticket_110465  ...  Ticket_STON/O2. 3101290  \\\n",
       "114         0              0              0  ...                        0   \n",
       "874         0              0              0  ...                        0   \n",
       "76          1              0              0  ...                        0   \n",
       "876         1              0              0  ...                        0   \n",
       "674         1              0              0  ...                        0   \n",
       "\n",
       "     Ticket_SW/PP 751  Ticket_W./C. 14258  Ticket_W./C. 14263  \\\n",
       "114                 0                   0                   0   \n",
       "874                 0                   0                   0   \n",
       "76                  0                   0                   0   \n",
       "876                 0                   0                   0   \n",
       "674                 0                   0                   0   \n",
       "\n",
       "     Ticket_W./C. 6607  Ticket_W./C. 6608  Ticket_W./C. 6609  \\\n",
       "114                  0                  0                  0   \n",
       "874                  0                  0                  0   \n",
       "76                   0                  0                  0   \n",
       "876                  0                  0                  0   \n",
       "674                  0                  0                  0   \n",
       "\n",
       "     Ticket_W.E.P. 5734  Ticket_W/C 14208  Ticket_WE/P 5735  \n",
       "114                   0                 0                 0  \n",
       "874                   0                 0                 0  \n",
       "76                    0                 0                 0  \n",
       "876                   0                 0                 0  \n",
       "674                   0                 0                 0  \n",
       "\n",
       "[5 rows x 688 columns]"
      ]
     },
     "execution_count": 463,
     "metadata": {},
     "output_type": "execute_result"
    }
   ],
   "source": [
    "X_train.head()"
   ]
  },
  {
   "cell_type": "code",
   "execution_count": 464,
   "metadata": {},
   "outputs": [
    {
     "data": {
      "text/plain": [
       "Index(['PassengerId', 'Pclass', 'Age', 'SibSp', 'Parch', 'Fare', 'Embarked',\n",
       "       'Sex_male', 'Ticket_110413', 'Ticket_110465',\n",
       "       ...\n",
       "       'Ticket_STON/O2. 3101290', 'Ticket_SW/PP 751', 'Ticket_W./C. 14258',\n",
       "       'Ticket_W./C. 14263', 'Ticket_W./C. 6607', 'Ticket_W./C. 6608',\n",
       "       'Ticket_W./C. 6609', 'Ticket_W.E.P. 5734', 'Ticket_W/C 14208',\n",
       "       'Ticket_WE/P 5735'],\n",
       "      dtype='object', length=688)"
      ]
     },
     "execution_count": 464,
     "metadata": {},
     "output_type": "execute_result"
    }
   ],
   "source": [
    "X_train.columns\n"
   ]
  },
  {
   "cell_type": "code",
   "execution_count": 465,
   "metadata": {},
   "outputs": [
    {
     "data": {
      "text/plain": [
       "array([0.00000000e+00, 4.61827376e-02, 3.53742983e-02, 1.36820337e-02,\n",
       "       2.69498697e-02, 1.29962057e-01, 2.11088331e-02, 1.43000246e-01,\n",
       "       1.89292207e-02, 3.70367173e-03, 0.00000000e+00, 0.00000000e+00,\n",
       "       4.67527217e-03, 7.59810322e-03, 1.37866543e-02, 0.00000000e+00,\n",
       "       1.26371863e-04, 4.31585666e-02, 0.00000000e+00, 0.00000000e+00,\n",
       "       0.00000000e+00, 0.00000000e+00, 0.00000000e+00, 0.00000000e+00,\n",
       "       7.04640803e-03, 0.00000000e+00, 7.27728148e-03, 8.03410004e-03,\n",
       "       9.37806533e-03, 2.53032080e-02, 0.00000000e+00, 2.38291888e-03,\n",
       "       0.00000000e+00, 0.00000000e+00, 0.00000000e+00, 0.00000000e+00,\n",
       "       0.00000000e+00, 0.00000000e+00, 0.00000000e+00, 0.00000000e+00,\n",
       "       0.00000000e+00, 0.00000000e+00, 0.00000000e+00, 3.03584022e-02,\n",
       "       2.07361874e-03, 5.75905299e-03, 6.94803124e-03, 0.00000000e+00,\n",
       "       0.00000000e+00, 2.45825738e-03, 0.00000000e+00, 0.00000000e+00,\n",
       "       6.51568881e-04, 0.00000000e+00, 0.00000000e+00, 3.96115835e-02,\n",
       "       0.00000000e+00, 5.06554377e-02, 3.94787810e-02, 6.62778408e-03,\n",
       "       3.97831832e-02, 3.90532003e-03, 3.61089406e-03, 0.00000000e+00,\n",
       "       0.00000000e+00, 0.00000000e+00, 6.71423329e-02, 1.04962077e-02,\n",
       "       9.02989032e-03, 0.00000000e+00, 0.00000000e+00, 0.00000000e+00,\n",
       "       4.16275422e-02, 0.00000000e+00, 0.00000000e+00, 1.34868926e-02,\n",
       "       0.00000000e+00, 0.00000000e+00, 1.82660163e-02, 0.00000000e+00,\n",
       "       1.79612819e-03, 4.65874348e-03, 0.00000000e+00, 0.00000000e+00,\n",
       "       0.00000000e+00, 2.76631051e-02, 1.22828684e-02, 0.00000000e+00,\n",
       "       1.29859987e-02, 0.00000000e+00, 0.00000000e+00, 0.00000000e+00,\n",
       "       0.00000000e+00, 2.03974348e-02, 4.05101511e-03, 3.66035902e-02,\n",
       "       2.50468179e-03, 0.00000000e+00, 1.63113339e-03, 0.00000000e+00,\n",
       "       9.20629138e-03, 0.00000000e+00, 0.00000000e+00, 0.00000000e+00,\n",
       "       1.76080785e-03, 4.81760239e-03, 3.86595507e-02, 1.11340940e-02,\n",
       "       0.00000000e+00, 0.00000000e+00, 2.63791007e-02, 0.00000000e+00,\n",
       "       1.38053860e-02, 0.00000000e+00, 1.74921112e-02, 1.36603592e-02,\n",
       "       5.62399747e-03, 3.58266730e-02, 0.00000000e+00, 0.00000000e+00,\n",
       "       1.25432516e-02, 9.75416093e-03, 0.00000000e+00, 2.32207313e-03,\n",
       "       1.46782209e-02, 5.76474056e-03, 0.00000000e+00, 0.00000000e+00,\n",
       "       0.00000000e+00, 0.00000000e+00, 9.53967065e-03, 5.14009111e-04,\n",
       "       1.32306204e-02, 0.00000000e+00, 1.77867145e-02, 7.97687233e-04,\n",
       "       6.43436157e-02, 0.00000000e+00, 1.76852485e-02, 2.93425587e-03,\n",
       "       4.63808498e-03, 0.00000000e+00, 1.76830092e-02, 0.00000000e+00,\n",
       "       0.00000000e+00, 1.13728723e-02, 3.69391236e-03, 0.00000000e+00,\n",
       "       0.00000000e+00, 0.00000000e+00, 0.00000000e+00, 3.99405649e-02,\n",
       "       1.99362793e-02, 2.64386542e-02, 0.00000000e+00, 0.00000000e+00,\n",
       "       2.83552551e-02, 6.37121370e-03, 1.94038191e-02, 0.00000000e+00,\n",
       "       0.00000000e+00, 0.00000000e+00, 0.00000000e+00, 0.00000000e+00,\n",
       "       1.86919761e-02, 0.00000000e+00, 0.00000000e+00, 0.00000000e+00,\n",
       "       5.23324687e-02, 0.00000000e+00, 0.00000000e+00, 1.63193527e-02,\n",
       "       1.35735630e-02, 3.50507667e-02, 0.00000000e+00, 2.76999761e-02,\n",
       "       0.00000000e+00, 0.00000000e+00, 0.00000000e+00, 0.00000000e+00,\n",
       "       5.09149937e-05, 0.00000000e+00, 0.00000000e+00, 1.21339238e-02,\n",
       "       0.00000000e+00, 0.00000000e+00, 0.00000000e+00, 1.37983886e-02,\n",
       "       1.54949850e-02, 7.49061709e-03, 0.00000000e+00, 1.69820303e-02,\n",
       "       0.00000000e+00, 2.97383618e-03, 0.00000000e+00, 0.00000000e+00,\n",
       "       2.11302244e-02, 8.25506694e-03, 0.00000000e+00, 0.00000000e+00,\n",
       "       1.88792722e-02, 0.00000000e+00, 0.00000000e+00, 3.35563486e-02,\n",
       "       2.04764322e-02, 0.00000000e+00, 0.00000000e+00, 3.79302377e-02,\n",
       "       2.20781853e-02, 0.00000000e+00, 3.35493782e-02, 0.00000000e+00,\n",
       "       1.69045379e-02, 7.70813261e-03, 0.00000000e+00, 0.00000000e+00,\n",
       "       1.15296122e-02, 0.00000000e+00, 0.00000000e+00, 0.00000000e+00,\n",
       "       1.61693521e-02, 0.00000000e+00, 3.92777937e-02, 3.42094405e-02,\n",
       "       0.00000000e+00, 8.82353263e-03, 0.00000000e+00, 2.23264770e-02,\n",
       "       0.00000000e+00, 0.00000000e+00, 9.39688285e-03, 1.68578590e-02,\n",
       "       6.75881987e-05, 0.00000000e+00, 2.42928475e-02, 0.00000000e+00,\n",
       "       1.47572681e-02, 2.56765428e-02, 0.00000000e+00, 1.34349432e-02,\n",
       "       2.21248134e-02, 0.00000000e+00, 8.23770992e-03, 0.00000000e+00,\n",
       "       0.00000000e+00, 3.05747076e-02, 1.67596690e-02, 0.00000000e+00,\n",
       "       4.35805570e-02, 0.00000000e+00, 0.00000000e+00, 2.98412740e-02,\n",
       "       0.00000000e+00, 2.94216866e-02, 0.00000000e+00, 1.97433242e-02,\n",
       "       0.00000000e+00, 0.00000000e+00, 2.79764287e-02, 1.15939475e-02,\n",
       "       0.00000000e+00, 6.55317413e-03, 3.26297761e-04, 9.82874499e-03,\n",
       "       5.65705125e-03, 0.00000000e+00, 0.00000000e+00, 0.00000000e+00,\n",
       "       1.52016922e-02, 0.00000000e+00, 2.20055121e-02, 9.37628385e-03,\n",
       "       1.66029119e-02, 0.00000000e+00, 0.00000000e+00, 0.00000000e+00,\n",
       "       0.00000000e+00, 0.00000000e+00, 4.61173288e-04, 1.55107691e-02,\n",
       "       0.00000000e+00, 1.38231356e-02, 0.00000000e+00, 0.00000000e+00,\n",
       "       0.00000000e+00, 0.00000000e+00, 0.00000000e+00, 0.00000000e+00,\n",
       "       0.00000000e+00, 0.00000000e+00, 0.00000000e+00, 2.29863109e-02,\n",
       "       2.13183581e-02, 3.98043670e-03, 0.00000000e+00, 0.00000000e+00,\n",
       "       0.00000000e+00, 8.58289779e-03, 0.00000000e+00, 1.35839147e-02,\n",
       "       9.19153839e-03, 2.04940387e-02, 1.41863580e-02, 2.19107472e-05,\n",
       "       0.00000000e+00, 7.08986541e-03, 0.00000000e+00, 0.00000000e+00,\n",
       "       0.00000000e+00, 0.00000000e+00, 1.82641344e-03, 1.72856186e-02,\n",
       "       1.29275394e-02, 8.81577767e-03, 6.81215010e-03, 1.39259350e-02,\n",
       "       1.02971273e-02, 2.56780841e-02, 0.00000000e+00, 3.22453395e-02,\n",
       "       6.26956386e-03, 8.92124051e-03, 5.95297619e-03, 0.00000000e+00,\n",
       "       1.28838933e-02, 1.64042413e-02, 1.76662969e-03, 1.06302765e-02,\n",
       "       1.17769307e-03, 0.00000000e+00, 0.00000000e+00, 0.00000000e+00,\n",
       "       6.59512860e-03, 5.76296645e-03, 1.22821281e-02, 0.00000000e+00,\n",
       "       2.86288983e-02, 0.00000000e+00, 9.50160860e-03, 2.05022453e-02,\n",
       "       0.00000000e+00, 1.63107114e-02, 0.00000000e+00, 0.00000000e+00,\n",
       "       1.27931795e-03, 0.00000000e+00, 1.48843563e-02, 3.36406891e-02,\n",
       "       0.00000000e+00, 0.00000000e+00, 0.00000000e+00, 3.39707710e-02,\n",
       "       0.00000000e+00, 4.43095511e-02, 0.00000000e+00, 0.00000000e+00,\n",
       "       0.00000000e+00, 0.00000000e+00, 0.00000000e+00, 9.29824305e-03,\n",
       "       1.44311427e-03, 0.00000000e+00, 8.36660089e-03, 5.91652229e-03,\n",
       "       8.48511887e-03, 0.00000000e+00, 9.05051253e-03, 2.99329546e-02,\n",
       "       0.00000000e+00, 1.75045574e-02, 8.43474831e-03, 0.00000000e+00,\n",
       "       3.37781035e-02, 0.00000000e+00, 9.44085847e-03, 0.00000000e+00,\n",
       "       0.00000000e+00, 1.40645253e-02, 1.05432797e-03, 0.00000000e+00,\n",
       "       0.00000000e+00, 2.02854791e-02, 4.65531037e-03, 0.00000000e+00,\n",
       "       0.00000000e+00, 2.39317685e-02, 0.00000000e+00, 0.00000000e+00,\n",
       "       0.00000000e+00, 0.00000000e+00, 9.18874911e-03, 0.00000000e+00,\n",
       "       1.89296155e-02, 3.76034382e-03, 0.00000000e+00, 0.00000000e+00,\n",
       "       0.00000000e+00, 0.00000000e+00, 0.00000000e+00, 0.00000000e+00,\n",
       "       0.00000000e+00, 0.00000000e+00, 9.35034417e-03, 0.00000000e+00,\n",
       "       1.93611208e-02, 8.35034819e-03, 2.73646354e-02, 1.01849323e-02,\n",
       "       0.00000000e+00, 2.14001404e-02, 1.38665621e-03, 1.84649885e-02,\n",
       "       3.03451260e-02, 0.00000000e+00, 3.50893214e-03, 0.00000000e+00,\n",
       "       4.23356947e-02, 2.15535851e-02, 0.00000000e+00, 2.65598457e-03,\n",
       "       0.00000000e+00, 2.28633690e-03, 0.00000000e+00, 0.00000000e+00,\n",
       "       1.23095123e-02, 0.00000000e+00, 4.70271851e-02, 0.00000000e+00,\n",
       "       0.00000000e+00, 1.17361218e-02, 0.00000000e+00, 4.20313958e-04,\n",
       "       0.00000000e+00, 9.61344712e-03, 5.44182673e-03, 1.80742117e-02,\n",
       "       0.00000000e+00, 0.00000000e+00, 0.00000000e+00, 2.25894104e-02,\n",
       "       0.00000000e+00, 2.84037612e-02, 0.00000000e+00, 2.47728883e-03,\n",
       "       3.42928082e-02, 2.11285256e-02, 2.13293742e-02, 2.73493009e-02,\n",
       "       4.38775865e-03, 2.60512238e-02, 0.00000000e+00, 6.67188126e-03,\n",
       "       4.20059207e-02, 3.93914550e-03, 0.00000000e+00, 6.96738386e-03,\n",
       "       0.00000000e+00, 0.00000000e+00, 1.59223777e-02, 0.00000000e+00,\n",
       "       0.00000000e+00, 1.38961038e-02, 9.47219011e-03, 6.54703022e-03,\n",
       "       0.00000000e+00, 3.61719179e-02, 2.67450044e-02, 0.00000000e+00,\n",
       "       1.25979201e-02, 0.00000000e+00, 0.00000000e+00, 0.00000000e+00,\n",
       "       2.81976208e-03, 1.25556065e-02, 1.35147782e-02, 0.00000000e+00,\n",
       "       0.00000000e+00, 0.00000000e+00, 5.16568367e-03, 1.54492294e-02,\n",
       "       0.00000000e+00, 0.00000000e+00, 0.00000000e+00, 1.94900937e-03,\n",
       "       0.00000000e+00, 0.00000000e+00, 2.60778766e-03, 3.23043666e-02,\n",
       "       2.85917664e-03, 0.00000000e+00, 3.36467362e-02, 3.31345345e-02,\n",
       "       0.00000000e+00, 0.00000000e+00, 0.00000000e+00, 3.13504245e-02,\n",
       "       3.21516473e-03, 2.54187843e-02, 1.00693775e-02, 2.87026990e-02,\n",
       "       0.00000000e+00, 0.00000000e+00, 0.00000000e+00, 0.00000000e+00,\n",
       "       0.00000000e+00, 2.30067698e-02, 0.00000000e+00, 0.00000000e+00,\n",
       "       1.88859535e-03, 0.00000000e+00, 2.81124185e-02, 9.43920526e-04,\n",
       "       0.00000000e+00, 0.00000000e+00, 3.28041533e-02, 0.00000000e+00,\n",
       "       1.37758763e-03, 2.25229200e-04, 0.00000000e+00, 1.55579366e-02,\n",
       "       4.28915287e-03, 3.03650287e-03, 0.00000000e+00, 0.00000000e+00,\n",
       "       1.94559006e-02, 0.00000000e+00, 8.58101361e-04, 3.24792650e-02,\n",
       "       7.53293066e-03, 0.00000000e+00, 0.00000000e+00, 0.00000000e+00,\n",
       "       0.00000000e+00, 1.45658333e-02, 0.00000000e+00, 2.77408477e-02,\n",
       "       3.40825627e-02, 0.00000000e+00, 7.41189597e-03, 3.90459338e-02,\n",
       "       0.00000000e+00, 0.00000000e+00, 2.40491920e-02, 0.00000000e+00,\n",
       "       0.00000000e+00, 0.00000000e+00, 0.00000000e+00, 2.14457563e-02,\n",
       "       1.32266189e-02, 7.73652447e-03, 0.00000000e+00, 0.00000000e+00,\n",
       "       2.38919892e-02, 3.29445930e-02, 0.00000000e+00, 8.83122025e-03,\n",
       "       0.00000000e+00, 0.00000000e+00, 1.20241821e-02, 0.00000000e+00,\n",
       "       0.00000000e+00, 0.00000000e+00, 0.00000000e+00, 0.00000000e+00,\n",
       "       3.75720111e-03, 3.10725869e-02, 6.16840761e-04, 0.00000000e+00,\n",
       "       2.58602669e-02, 0.00000000e+00, 2.81329692e-02, 0.00000000e+00,\n",
       "       3.00563897e-02, 2.33253570e-02, 4.34917085e-02, 0.00000000e+00,\n",
       "       0.00000000e+00, 0.00000000e+00, 3.71818554e-02, 2.16701641e-02,\n",
       "       9.50299235e-04, 0.00000000e+00, 0.00000000e+00, 1.09376168e-02,\n",
       "       0.00000000e+00, 1.09389308e-02, 0.00000000e+00, 0.00000000e+00,\n",
       "       7.69991146e-04, 7.42837072e-03, 0.00000000e+00, 0.00000000e+00,\n",
       "       0.00000000e+00, 1.38439969e-02, 3.69330609e-03, 0.00000000e+00,\n",
       "       0.00000000e+00, 0.00000000e+00, 0.00000000e+00, 0.00000000e+00,\n",
       "       0.00000000e+00, 0.00000000e+00, 3.81530444e-03, 9.71341652e-03,\n",
       "       0.00000000e+00, 1.58761192e-03, 0.00000000e+00, 2.31668198e-02,\n",
       "       3.12426553e-04, 0.00000000e+00, 3.96438002e-03, 0.00000000e+00,\n",
       "       0.00000000e+00, 1.14604207e-02, 4.16903536e-02, 0.00000000e+00,\n",
       "       7.08985941e-03, 0.00000000e+00, 0.00000000e+00, 0.00000000e+00,\n",
       "       4.18884551e-03, 1.58469129e-02, 0.00000000e+00, 9.86197672e-03,\n",
       "       0.00000000e+00, 0.00000000e+00, 0.00000000e+00, 4.10311793e-02,\n",
       "       2.03219665e-02, 0.00000000e+00, 0.00000000e+00, 4.29749672e-02,\n",
       "       0.00000000e+00, 0.00000000e+00, 3.62470717e-02, 5.46816198e-04,\n",
       "       0.00000000e+00, 2.20252951e-03, 6.32544571e-03, 1.11020961e-02,\n",
       "       8.25741840e-03, 0.00000000e+00, 1.20857166e-02, 5.46986566e-03,\n",
       "       0.00000000e+00, 0.00000000e+00, 0.00000000e+00, 0.00000000e+00,\n",
       "       0.00000000e+00, 1.66736014e-02, 1.86471783e-03, 0.00000000e+00,\n",
       "       6.88909040e-03, 0.00000000e+00, 1.62879920e-03, 3.66760738e-04,\n",
       "       0.00000000e+00, 1.82937394e-02, 8.23831968e-04, 6.90094834e-04,\n",
       "       2.73090122e-02, 0.00000000e+00, 1.88150270e-02, 0.00000000e+00,\n",
       "       2.32364313e-02, 0.00000000e+00, 0.00000000e+00, 0.00000000e+00,\n",
       "       0.00000000e+00, 6.20180878e-03, 0.00000000e+00, 0.00000000e+00,\n",
       "       4.41115322e-02, 0.00000000e+00, 0.00000000e+00, 0.00000000e+00,\n",
       "       0.00000000e+00, 1.31290722e-02, 0.00000000e+00, 3.40114329e-02,\n",
       "       0.00000000e+00, 0.00000000e+00, 1.01603371e-02, 1.77259778e-02,\n",
       "       1.71130751e-02, 2.69647389e-02, 3.49756821e-02, 1.09990078e-02])"
      ]
     },
     "execution_count": 465,
     "metadata": {},
     "output_type": "execute_result"
    }
   ],
   "source": [
    "from sklearn.feature_selection import mutual_info_classif\n",
    "\n",
    "mutual_info = mutual_info_classif(X_train,Y_train)\n",
    "mutual_info"
   ]
  },
  {
   "cell_type": "code",
   "execution_count": 466,
   "metadata": {},
   "outputs": [
    {
     "data": {
      "text/plain": [
       "Sex_male         0.143000\n",
       "Fare             0.129962\n",
       "Ticket_11767     0.067142\n",
       "Ticket_237565    0.064344\n",
       "Ticket_250643    0.052332\n",
       "                   ...   \n",
       "Ticket_2667      0.000000\n",
       "Ticket_26707     0.000000\n",
       "Ticket_2671      0.000000\n",
       "Ticket_364849    0.000000\n",
       "PassengerId      0.000000\n",
       "Length: 688, dtype: float64"
      ]
     },
     "execution_count": 466,
     "metadata": {},
     "output_type": "execute_result"
    }
   ],
   "source": [
    "mutual_info = pd.Series(mutual_info)\n",
    "mutual_info.index = X_train.columns\n",
    "mutual_info.sort_values(ascending=False)"
   ]
  },
  {
   "cell_type": "code",
   "execution_count": 467,
   "metadata": {},
   "outputs": [
    {
     "data": {
      "text/plain": [
       "<matplotlib.axes._subplots.AxesSubplot at 0x15cc2edc588>"
      ]
     },
     "execution_count": 467,
     "metadata": {},
     "output_type": "execute_result"
    },
    {
     "data": {
      "image/png": "[encoded data removed]",
      "text/plain": [
       "<Figure size 2880x576 with 1 Axes>"
      ]
     },
     "metadata": {
      "needs_background": "light"
     },
     "output_type": "display_data"
    }
   ],
   "source": [
    "mutual_info.sort_values(ascending=False).plot.bar(figsize=(40,8))"
   ]
  },
  {
   "cell_type": "code",
   "execution_count": 468,
   "metadata": {},
   "outputs": [
    {
     "data": {
      "text/plain": [
       "Index(['Pclass', 'Fare', 'Sex_male', 'Ticket_113510', 'Ticket_347067',\n",
       "       'Ticket_349205', 'Ticket_358585', 'Ticket_364511', 'Ticket_382652',\n",
       "       'Ticket_SOTON/OQ 3101316'],\n",
       "      dtype='object')"
      ]
     },
     "execution_count": 468,
     "metadata": {},
     "output_type": "execute_result"
    }
   ],
   "source": [
    "### we will pickup the top 10 features\n",
    "from sklearn.feature_selection import SelectKBest\n",
    "sele_ten_cols = SelectKBest(mutual_info_classif,k=10)\n",
    "sele_ten_cols.fit(X_train,Y_train)\n",
    "X_train.columns[sele_ten_cols.get_support()]"
   ]
  },
  {
   "cell_type": "code",
   "execution_count": 469,
   "metadata": {},
   "outputs": [
    {
     "name": "stderr",
     "output_type": "stream",
     "text": [
      "C:\\Users\\saifgazali\\Anaconda3\\lib\\site-packages\\sklearn\\ensemble\\forest.py:246: FutureWarning: The default value of n_estimators will change from 10 in version 0.20 to 100 in 0.22.\n",
      "  \"10 in version 0.20 to 100 in 0.22.\", FutureWarning)\n"
     ]
    },
    {
     "data": {
      "text/plain": [
       "ExtraTreesRegressor(bootstrap=False, criterion='mse', max_depth=None,\n",
       "          max_features='auto', max_leaf_nodes=None,\n",
       "          min_impurity_decrease=0.0, min_impurity_split=None,\n",
       "          min_samples_leaf=1, min_samples_split=2,\n",
       "          min_weight_fraction_leaf=0.0, n_estimators=10, n_jobs=None,\n",
       "          oob_score=False, random_state=None, verbose=0, warm_start=False)"
      ]
     },
     "execution_count": 469,
     "metadata": {},
     "output_type": "execute_result"
    }
   ],
   "source": [
    "from sklearn.ensemble import ExtraTreesRegressor\n",
    "selection = ExtraTreesRegressor()\n",
    "selection.fit(data_train.drop(labels=['Survived'],axis=1),data_train['Survived'])"
   ]
  },
  {
   "cell_type": "code",
   "execution_count": 470,
   "metadata": {},
   "outputs": [
    {
     "data": {
      "image/png": "[encoded data removed]",
      "text/plain": [
       "<Figure size 864x720 with 1 Axes>"
      ]
     },
     "metadata": {
      "needs_background": "light"
     },
     "output_type": "display_data"
    }
   ],
   "source": [
    "### Plot graph of feature importance for better visualization\n",
    "plt.figure(figsize=(12,10))\n",
    "feature_imp = pd.Series(selection.feature_importances_,index=data_train.drop(labels=['Survived'],axis=1).columns)\n",
    "feature_imp.nlargest(20).plot(kind='barh')\n",
    "plt.show()"
   ]
  },
  {
   "cell_type": "code",
   "execution_count": 471,
   "metadata": {},
   "outputs": [],
   "source": [
    "from xgboost import XGBClassifier\n",
    "classifier = XGBClassifier()"
   ]
  },
  {
   "cell_type": "code",
   "execution_count": 472,
   "metadata": {},
   "outputs": [],
   "source": [
    "X_train1 = X_train[['Pclass', 'Fare', 'Sex_male', 'Ticket_110465', 'Ticket_2667',\n",
    "       'Ticket_343275', 'Ticket_349233', 'Ticket_382652', 'Ticket_A/5 3536',\n",
    "       'Ticket_F.C.C. 13531']]\n",
    "X_test1 = X_test[['Pclass', 'Fare', 'Sex_male', 'Ticket_110465', 'Ticket_2667',\n",
    "       'Ticket_343275', 'Ticket_349233', 'Ticket_382652', 'Ticket_A/5 3536',\n",
    "       'Ticket_F.C.C. 13531']]"
   ]
  },
  {
   "cell_type": "code",
   "execution_count": 473,
   "metadata": {},
   "outputs": [
    {
     "name": "stdout",
     "output_type": "stream",
     "text": [
      "[22:31:44] WARNING: C:/Users/Administrator/workspace/xgboost-win64_release_1.3.0/src/learner.cc:1061: Starting in XGBoost 1.3.0, the default evaluation metric used with the objective 'binary:logistic' was changed from 'error' to 'logloss'. Explicitly set eval_metric if you'd like to restore the old behavior.\n"
     ]
    },
    {
     "name": "stderr",
     "output_type": "stream",
     "text": [
      "C:\\Users\\saifgazali\\Anaconda3\\lib\\site-packages\\xgboost\\sklearn.py:888: UserWarning: The use of label encoder in XGBClassifier is deprecated and will be removed in a future release. To remove this warning, do the following: 1) Pass option use_label_encoder=False when constructing XGBClassifier object; and 2) Encode your labels (y) as integers starting with 0, i.e. 0, 1, 2, ..., [num_class - 1].\n",
      "  warnings.warn(label_encoder_deprecation_msg, UserWarning)\n"
     ]
    },
    {
     "data": {
      "text/plain": [
       "XGBClassifier(base_score=0.5, booster='gbtree', colsample_bylevel=1,\n",
       "       colsample_bynode=1, colsample_bytree=1, gamma=0, gpu_id=-1,\n",
       "       importance_type='gain', interaction_constraints='',\n",
       "       learning_rate=0.300000012, max_delta_step=0, max_depth=6,\n",
       "       min_child_weight=1, missing=nan, monotone_constraints='()',\n",
       "       n_estimators=100, n_jobs=4, num_parallel_tree=1,\n",
       "       objective='binary:logistic', random_state=0, reg_alpha=0,\n",
       "       reg_lambda=1, scale_pos_weight=1, subsample=1, tree_method='exact',\n",
       "       use_label_encoder=True, validate_parameters=1, verbosity=None)"
      ]
     },
     "execution_count": 473,
     "metadata": {},
     "output_type": "execute_result"
    }
   ],
   "source": [
    "classifier.fit(X_train1,Y_train)"
   ]
  },
  {
   "cell_type": "code",
   "execution_count": 474,
   "metadata": {},
   "outputs": [
    {
     "data": {
      "text/plain": [
       "0.898876404494382"
      ]
     },
     "execution_count": 474,
     "metadata": {},
     "output_type": "execute_result"
    }
   ],
   "source": [
    "classifier.score(X_train1,Y_train)"
   ]
  },
  {
   "cell_type": "code",
   "execution_count": 475,
   "metadata": {},
   "outputs": [
    {
     "data": {
      "text/plain": [
       "0.7947761194029851"
      ]
     },
     "execution_count": 475,
     "metadata": {},
     "output_type": "execute_result"
    }
   ],
   "source": [
    "classifier.score(X_test1,Y_test)"
   ]
  },
  {
   "cell_type": "code",
   "execution_count": 476,
   "metadata": {},
   "outputs": [],
   "source": [
    "from sklearn.feature_selection import SelectKBest\n",
    "from sklearn.feature_selection import chi2\n"
   ]
  },
  {
   "cell_type": "code",
   "execution_count": 477,
   "metadata": {},
   "outputs": [],
   "source": [
    "### apply SelectKBest algorithm\n",
    "order_rank_feature = SelectKBest(score_func=chi2,k=20)\n",
    "order_features = order_rank_feature.fit(X_train,Y_train)"
   ]
  },
  {
   "cell_type": "code",
   "execution_count": 478,
   "metadata": {},
   "outputs": [],
   "source": [
    "dfScore = pd.DataFrame(order_features.scores_,columns=['Score'])\n",
    "dfCol = pd.DataFrame(X_train.columns)"
   ]
  },
  {
   "cell_type": "code",
   "execution_count": 479,
   "metadata": {},
   "outputs": [],
   "source": [
    "features_rank = pd.concat([dfCol,dfScore],axis=1)"
   ]
  },
  {
   "cell_type": "code",
   "execution_count": 480,
   "metadata": {},
   "outputs": [
    {
     "data": {
      "text/html": [
       "<div>\n",
       "<style scoped>\n",
       "    .dataframe tbody tr th:only-of-type {\n",
       "        vertical-align: middle;\n",
       "    }\n",
       "\n",
       "    .dataframe tbody tr th {\n",
       "        vertical-align: top;\n",
       "    }\n",
       "\n",
       "    .dataframe thead th {\n",
       "        text-align: right;\n",
       "    }\n",
       "</style>\n",
       "<table border=\"1\" class=\"dataframe\">\n",
       "  <thead>\n",
       "    <tr style=\"text-align: right;\">\n",
       "      <th></th>\n",
       "      <th>0</th>\n",
       "      <th>Score</th>\n",
       "    </tr>\n",
       "  </thead>\n",
       "  <tbody>\n",
       "    <tr>\n",
       "      <th>5</th>\n",
       "      <td>Fare</td>\n",
       "      <td>2837.592816</td>\n",
       "    </tr>\n",
       "    <tr>\n",
       "      <th>7</th>\n",
       "      <td>Sex_male</td>\n",
       "      <td>69.658775</td>\n",
       "    </tr>\n",
       "    <tr>\n",
       "      <th>0</th>\n",
       "      <td>PassengerId</td>\n",
       "      <td>27.883543</td>\n",
       "    </tr>\n",
       "    <tr>\n",
       "      <th>1</th>\n",
       "      <td>Pclass</td>\n",
       "      <td>22.025598</td>\n",
       "    </tr>\n",
       "    <tr>\n",
       "      <th>2</th>\n",
       "      <td>Age</td>\n",
       "      <td>17.385344</td>\n",
       "    </tr>\n",
       "    <tr>\n",
       "      <th>4</th>\n",
       "      <td>Parch</td>\n",
       "      <td>16.792326</td>\n",
       "    </tr>\n",
       "    <tr>\n",
       "      <th>35</th>\n",
       "      <td>Ticket_113505</td>\n",
       "      <td>3.488987</td>\n",
       "    </tr>\n",
       "    <tr>\n",
       "      <th>40</th>\n",
       "      <td>Ticket_113760</td>\n",
       "      <td>3.488987</td>\n",
       "    </tr>\n",
       "    <tr>\n",
       "      <th>66</th>\n",
       "      <td>Ticket_11767</td>\n",
       "      <td>3.488987</td>\n",
       "    </tr>\n",
       "    <tr>\n",
       "      <th>74</th>\n",
       "      <td>Ticket_12749</td>\n",
       "      <td>3.488987</td>\n",
       "    </tr>\n",
       "    <tr>\n",
       "      <th>78</th>\n",
       "      <td>Ticket_13502</td>\n",
       "      <td>3.488987</td>\n",
       "    </tr>\n",
       "    <tr>\n",
       "      <th>88</th>\n",
       "      <td>Ticket_16966</td>\n",
       "      <td>3.488987</td>\n",
       "    </tr>\n",
       "    <tr>\n",
       "      <th>96</th>\n",
       "      <td>Ticket_17474</td>\n",
       "      <td>3.488987</td>\n",
       "    </tr>\n",
       "    <tr>\n",
       "      <th>106</th>\n",
       "      <td>Ticket_19996</td>\n",
       "      <td>3.488987</td>\n",
       "    </tr>\n",
       "    <tr>\n",
       "      <th>113</th>\n",
       "      <td>Ticket_220845</td>\n",
       "      <td>3.488987</td>\n",
       "    </tr>\n",
       "    <tr>\n",
       "      <th>121</th>\n",
       "      <td>Ticket_230136</td>\n",
       "      <td>3.488987</td>\n",
       "    </tr>\n",
       "    <tr>\n",
       "      <th>122</th>\n",
       "      <td>Ticket_230433</td>\n",
       "      <td>3.488987</td>\n",
       "    </tr>\n",
       "    <tr>\n",
       "      <th>124</th>\n",
       "      <td>Ticket_231919</td>\n",
       "      <td>3.488987</td>\n",
       "    </tr>\n",
       "    <tr>\n",
       "      <th>148</th>\n",
       "      <td>Ticket_24160</td>\n",
       "      <td>3.488987</td>\n",
       "    </tr>\n",
       "    <tr>\n",
       "      <th>162</th>\n",
       "      <td>Ticket_248727</td>\n",
       "      <td>3.488987</td>\n",
       "    </tr>\n",
       "  </tbody>\n",
       "</table>\n",
       "</div>"
      ],
      "text/plain": [
       "                 0        Score\n",
       "5             Fare  2837.592816\n",
       "7         Sex_male    69.658775\n",
       "0      PassengerId    27.883543\n",
       "1           Pclass    22.025598\n",
       "2              Age    17.385344\n",
       "4            Parch    16.792326\n",
       "35   Ticket_113505     3.488987\n",
       "40   Ticket_113760     3.488987\n",
       "66    Ticket_11767     3.488987\n",
       "74    Ticket_12749     3.488987\n",
       "78    Ticket_13502     3.488987\n",
       "88    Ticket_16966     3.488987\n",
       "96    Ticket_17474     3.488987\n",
       "106   Ticket_19996     3.488987\n",
       "113  Ticket_220845     3.488987\n",
       "121  Ticket_230136     3.488987\n",
       "122  Ticket_230433     3.488987\n",
       "124  Ticket_231919     3.488987\n",
       "148   Ticket_24160     3.488987\n",
       "162  Ticket_248727     3.488987"
      ]
     },
     "execution_count": 480,
     "metadata": {},
     "output_type": "execute_result"
    }
   ],
   "source": [
    "features_rank.nlargest(20,'Score')"
   ]
  },
  {
   "cell_type": "code",
   "execution_count": 579,
   "metadata": {},
   "outputs": [],
   "source": [
    "X_train2 = X_train[['Sex_male','Pclass','Fare']]\n",
    "X_test2 = X_test[['Sex_male','Pclass','Fare']]"
   ]
  },
  {
   "cell_type": "code",
   "execution_count": 580,
   "metadata": {},
   "outputs": [
    {
     "name": "stdout",
     "output_type": "stream",
     "text": [
      "[22:40:44] WARNING: C:/Users/Administrator/workspace/xgboost-win64_release_1.3.0/src/learner.cc:1061: Starting in XGBoost 1.3.0, the default evaluation metric used with the objective 'binary:logistic' was changed from 'error' to 'logloss'. Explicitly set eval_metric if you'd like to restore the old behavior.\n"
     ]
    },
    {
     "data": {
      "text/plain": [
       "XGBClassifier(base_score=0.5, booster='gbtree', colsample_bylevel=1,\n",
       "       colsample_bynode=1, colsample_bytree=1, gamma=0, gpu_id=-1,\n",
       "       importance_type='gain', interaction_constraints='',\n",
       "       learning_rate=0.300000012, max_delta_step=0, max_depth=6,\n",
       "       min_child_weight=1, missing=nan, monotone_constraints='()',\n",
       "       n_estimators=100, n_jobs=4, num_parallel_tree=1,\n",
       "       objective='binary:logistic', random_state=0, reg_alpha=0,\n",
       "       reg_lambda=1, scale_pos_weight=1, subsample=1, tree_method='exact',\n",
       "       use_label_encoder=True, validate_parameters=1, verbosity=None)"
      ]
     },
     "execution_count": 580,
     "metadata": {},
     "output_type": "execute_result"
    }
   ],
   "source": [
    "classifier.fit(X_train2,Y_train)"
   ]
  },
  {
   "cell_type": "code",
   "execution_count": 581,
   "metadata": {},
   "outputs": [
    {
     "data": {
      "text/plain": [
       "0.898876404494382"
      ]
     },
     "execution_count": 581,
     "metadata": {},
     "output_type": "execute_result"
    }
   ],
   "source": [
    "classifier.score(X_train2,Y_train)"
   ]
  },
  {
   "cell_type": "code",
   "execution_count": 582,
   "metadata": {},
   "outputs": [
    {
     "data": {
      "text/plain": [
       "0.7947761194029851"
      ]
     },
     "execution_count": 582,
     "metadata": {},
     "output_type": "execute_result"
    }
   ],
   "source": [
    "classifier.score(X_test2,Y_test)"
   ]
  },
  {
   "cell_type": "code",
   "execution_count": 583,
   "metadata": {},
   "outputs": [],
   "source": [
    "## Hyperparameter tuning\n",
    "parameters = {'base_score':[0.1,0.2,0.3,0.4,0.5,0.6,0.7,0.8,0.9],'learning_rate':[0.1,0.2,0.3,0.4,0.5,0.6,0.7,0.8,0.9],'max_depth':[2,4,6,8,10,12,14,16,18,20],'n_estimators':[10,20,30,40,50,60,70,80,90,100],'colsample_bytree':[0.1,0.2,0.3,0.4,0.5,0.6,0.7,0.8,0.9],'alpha':[10,20,30,40,50,60,70,80,90,100]}"
   ]
  },
  {
   "cell_type": "code",
   "execution_count": 584,
   "metadata": {},
   "outputs": [],
   "source": [
    "from sklearn.model_selection import RandomizedSearchCV\n",
    "randomziedSearchCV = RandomizedSearchCV(estimator=classifier,param_distributions=parameters,scoring='accuracy',cv=10,n_jobs=1,verbose=2)"
   ]
  },
  {
   "cell_type": "code",
   "execution_count": 585,
   "metadata": {},
   "outputs": [
    {
     "name": "stdout",
     "output_type": "stream",
     "text": [
      "Fitting 10 folds for each of 10 candidates, totalling 100 fits\n",
      "[CV] n_estimators=40, max_depth=6, learning_rate=0.4, colsample_bytree=0.5, base_score=0.7, alpha=20 \n",
      "[22:40:49] WARNING: C:/Users/Administrator/workspace/xgboost-win64_release_1.3.0/src/learner.cc:1061: Starting in XGBoost 1.3.0, the default evaluation metric used with the objective 'binary:logistic' was changed from 'error' to 'logloss'. Explicitly set eval_metric if you'd like to restore the old behavior.\n",
      "[CV]  n_estimators=40, max_depth=6, learning_rate=0.4, colsample_bytree=0.5, base_score=0.7, alpha=20, total=   0.0s\n",
      "[CV] n_estimators=40, max_depth=6, learning_rate=0.4, colsample_bytree=0.5, base_score=0.7, alpha=20 \n",
      "[22:40:49] WARNING: C:/Users/Administrator/workspace/xgboost-win64_release_1.3.0/src/learner.cc:1061: Starting in XGBoost 1.3.0, the default evaluation metric used with the objective 'binary:logistic' was changed from 'error' to 'logloss'. Explicitly set eval_metric if you'd like to restore the old behavior.\n",
      "[CV]  n_estimators=40, max_depth=6, learning_rate=0.4, colsample_bytree=0.5, base_score=0.7, alpha=20, total=   0.0s\n",
      "[CV] n_estimators=40, max_depth=6, learning_rate=0.4, colsample_bytree=0.5, base_score=0.7, alpha=20 \n",
      "[22:40:49] WARNING: C:/Users/Administrator/workspace/xgboost-win64_release_1.3.0/src/learner.cc:1061: Starting in XGBoost 1.3.0, the default evaluation metric used with the objective 'binary:logistic' was changed from 'error' to 'logloss'. Explicitly set eval_metric if you'd like to restore the old behavior.\n",
      "[CV]  n_estimators=40, max_depth=6, learning_rate=0.4, colsample_bytree=0.5, base_score=0.7, alpha=20, total=   0.0s\n",
      "[CV] n_estimators=40, max_depth=6, learning_rate=0.4, colsample_bytree=0.5, base_score=0.7, alpha=20 \n"
     ]
    },
    {
     "name": "stderr",
     "output_type": "stream",
     "text": [
      "[Parallel(n_jobs=1)]: Using backend SequentialBackend with 1 concurrent workers.\n",
      "C:\\Users\\saifgazali\\Anaconda3\\lib\\site-packages\\xgboost\\sklearn.py:888: UserWarning: The use of label encoder in XGBClassifier is deprecated and will be removed in a future release. To remove this warning, do the following: 1) Pass option use_label_encoder=False when constructing XGBClassifier object; and 2) Encode your labels (y) as integers starting with 0, i.e. 0, 1, 2, ..., [num_class - 1].\n",
      "  warnings.warn(label_encoder_deprecation_msg, UserWarning)\n",
      "[Parallel(n_jobs=1)]: Done   1 out of   1 | elapsed:    0.0s remaining:    0.0s\n"
     ]
    },
    {
     "name": "stdout",
     "output_type": "stream",
     "text": [
      "[22:40:49] WARNING: C:/Users/Administrator/workspace/xgboost-win64_release_1.3.0/src/learner.cc:1061: Starting in XGBoost 1.3.0, the default evaluation metric used with the objective 'binary:logistic' was changed from 'error' to 'logloss'. Explicitly set eval_metric if you'd like to restore the old behavior.\n",
      "[CV]  n_estimators=40, max_depth=6, learning_rate=0.4, colsample_bytree=0.5, base_score=0.7, alpha=20, total=   0.0s\n",
      "[CV] n_estimators=40, max_depth=6, learning_rate=0.4, colsample_bytree=0.5, base_score=0.7, alpha=20 \n",
      "[22:40:49] WARNING: C:/Users/Administrator/workspace/xgboost-win64_release_1.3.0/src/learner.cc:1061: Starting in XGBoost 1.3.0, the default evaluation metric used with the objective 'binary:logistic' was changed from 'error' to 'logloss'. Explicitly set eval_metric if you'd like to restore the old behavior.\n",
      "[CV]  n_estimators=40, max_depth=6, learning_rate=0.4, colsample_bytree=0.5, base_score=0.7, alpha=20, total=   0.0s\n",
      "[CV] n_estimators=40, max_depth=6, learning_rate=0.4, colsample_bytree=0.5, base_score=0.7, alpha=20 \n",
      "[22:40:50] WARNING: C:/Users/Administrator/workspace/xgboost-win64_release_1.3.0/src/learner.cc:1061: Starting in XGBoost 1.3.0, the default evaluation metric used with the objective 'binary:logistic' was changed from 'error' to 'logloss'. Explicitly set eval_metric if you'd like to restore the old behavior.\n",
      "[CV]  n_estimators=40, max_depth=6, learning_rate=0.4, colsample_bytree=0.5, base_score=0.7, alpha=20, total=   0.0s\n",
      "[CV] n_estimators=40, max_depth=6, learning_rate=0.4, colsample_bytree=0.5, base_score=0.7, alpha=20 \n",
      "[22:40:50] WARNING: C:/Users/Administrator/workspace/xgboost-win64_release_1.3.0/src/learner.cc:1061: Starting in XGBoost 1.3.0, the default evaluation metric used with the objective 'binary:logistic' was changed from 'error' to 'logloss'. Explicitly set eval_metric if you'd like to restore the old behavior.\n",
      "[CV]  n_estimators=40, max_depth=6, learning_rate=0.4, colsample_bytree=0.5, base_score=0.7, alpha=20, total=   0.0s\n",
      "[CV] n_estimators=40, max_depth=6, learning_rate=0.4, colsample_bytree=0.5, base_score=0.7, alpha=20 \n",
      "[22:40:50] WARNING: C:/Users/Administrator/workspace/xgboost-win64_release_1.3.0/src/learner.cc:1061: Starting in XGBoost 1.3.0, the default evaluation metric used with the objective 'binary:logistic' was changed from 'error' to 'logloss'. Explicitly set eval_metric if you'd like to restore the old behavior.\n",
      "[CV]  n_estimators=40, max_depth=6, learning_rate=0.4, colsample_bytree=0.5, base_score=0.7, alpha=20, total=   0.0s\n",
      "[CV] n_estimators=40, max_depth=6, learning_rate=0.4, colsample_bytree=0.5, base_score=0.7, alpha=20 \n",
      "[22:40:50] WARNING: C:/Users/Administrator/workspace/xgboost-win64_release_1.3.0/src/learner.cc:1061: Starting in XGBoost 1.3.0, the default evaluation metric used with the objective 'binary:logistic' was changed from 'error' to 'logloss'. Explicitly set eval_metric if you'd like to restore the old behavior.\n",
      "[CV]  n_estimators=40, max_depth=6, learning_rate=0.4, colsample_bytree=0.5, base_score=0.7, alpha=20, total=   0.0s\n",
      "[CV] n_estimators=40, max_depth=6, learning_rate=0.4, colsample_bytree=0.5, base_score=0.7, alpha=20 \n",
      "[22:40:50] WARNING: C:/Users/Administrator/workspace/xgboost-win64_release_1.3.0/src/learner.cc:1061: Starting in XGBoost 1.3.0, the default evaluation metric used with the objective 'binary:logistic' was changed from 'error' to 'logloss'. Explicitly set eval_metric if you'd like to restore the old behavior.\n",
      "[CV]  n_estimators=40, max_depth=6, learning_rate=0.4, colsample_bytree=0.5, base_score=0.7, alpha=20, total=   0.0s\n",
      "[CV] n_estimators=20, max_depth=12, learning_rate=0.4, colsample_bytree=0.4, base_score=0.2, alpha=100 \n",
      "[22:40:50] WARNING: C:/Users/Administrator/workspace/xgboost-win64_release_1.3.0/src/learner.cc:1061: Starting in XGBoost 1.3.0, the default evaluation metric used with the objective 'binary:logistic' was changed from 'error' to 'logloss'. Explicitly set eval_metric if you'd like to restore the old behavior.\n",
      "[CV]  n_estimators=20, max_depth=12, learning_rate=0.4, colsample_bytree=0.4, base_score=0.2, alpha=100, total=   0.0s\n",
      "[CV] n_estimators=20, max_depth=12, learning_rate=0.4, colsample_bytree=0.4, base_score=0.2, alpha=100 \n",
      "[22:40:50] WARNING: C:/Users/Administrator/workspace/xgboost-win64_release_1.3.0/src/learner.cc:1061: Starting in XGBoost 1.3.0, the default evaluation metric used with the objective 'binary:logistic' was changed from 'error' to 'logloss'. Explicitly set eval_metric if you'd like to restore the old behavior.\n",
      "[CV]  n_estimators=20, max_depth=12, learning_rate=0.4, colsample_bytree=0.4, base_score=0.2, alpha=100, total=   0.0s\n",
      "[CV] n_estimators=20, max_depth=12, learning_rate=0.4, colsample_bytree=0.4, base_score=0.2, alpha=100 \n",
      "[22:40:50] WARNING: C:/Users/Administrator/workspace/xgboost-win64_release_1.3.0/src/learner.cc:1061: Starting in XGBoost 1.3.0, the default evaluation metric used with the objective 'binary:logistic' was changed from 'error' to 'logloss'. Explicitly set eval_metric if you'd like to restore the old behavior.\n",
      "[CV]  n_estimators=20, max_depth=12, learning_rate=0.4, colsample_bytree=0.4, base_score=0.2, alpha=100, total=   0.0s\n",
      "[CV] n_estimators=20, max_depth=12, learning_rate=0.4, colsample_bytree=0.4, base_score=0.2, alpha=100 \n",
      "[22:40:50] WARNING: C:/Users/Administrator/workspace/xgboost-win64_release_1.3.0/src/learner.cc:1061: Starting in XGBoost 1.3.0, the default evaluation metric used with the objective 'binary:logistic' was changed from 'error' to 'logloss'. Explicitly set eval_metric if you'd like to restore the old behavior.\n",
      "[CV]  n_estimators=20, max_depth=12, learning_rate=0.4, colsample_bytree=0.4, base_score=0.2, alpha=100, total=   0.0s\n",
      "[CV] n_estimators=20, max_depth=12, learning_rate=0.4, colsample_bytree=0.4, base_score=0.2, alpha=100 \n",
      "[22:40:50] WARNING: C:/Users/Administrator/workspace/xgboost-win64_release_1.3.0/src/learner.cc:1061: Starting in XGBoost 1.3.0, the default evaluation metric used with the objective 'binary:logistic' was changed from 'error' to 'logloss'. Explicitly set eval_metric if you'd like to restore the old behavior.\n",
      "[CV]  n_estimators=20, max_depth=12, learning_rate=0.4, colsample_bytree=0.4, base_score=0.2, alpha=100, total=   0.0s\n",
      "[CV] n_estimators=20, max_depth=12, learning_rate=0.4, colsample_bytree=0.4, base_score=0.2, alpha=100 \n",
      "[22:40:50] WARNING: C:/Users/Administrator/workspace/xgboost-win64_release_1.3.0/src/learner.cc:1061: Starting in XGBoost 1.3.0, the default evaluation metric used with the objective 'binary:logistic' was changed from 'error' to 'logloss'. Explicitly set eval_metric if you'd like to restore the old behavior.\n",
      "[CV]  n_estimators=20, max_depth=12, learning_rate=0.4, colsample_bytree=0.4, base_score=0.2, alpha=100, total=   0.0s\n",
      "[CV] n_estimators=20, max_depth=12, learning_rate=0.4, colsample_bytree=0.4, base_score=0.2, alpha=100 \n",
      "[22:40:50] WARNING: C:/Users/Administrator/workspace/xgboost-win64_release_1.3.0/src/learner.cc:1061: Starting in XGBoost 1.3.0, the default evaluation metric used with the objective 'binary:logistic' was changed from 'error' to 'logloss'. Explicitly set eval_metric if you'd like to restore the old behavior.\n",
      "[CV]  n_estimators=20, max_depth=12, learning_rate=0.4, colsample_bytree=0.4, base_score=0.2, alpha=100, total=   0.0s\n",
      "[CV] n_estimators=20, max_depth=12, learning_rate=0.4, colsample_bytree=0.4, base_score=0.2, alpha=100 \n",
      "[22:40:50] WARNING: C:/Users/Administrator/workspace/xgboost-win64_release_1.3.0/src/learner.cc:1061: Starting in XGBoost 1.3.0, the default evaluation metric used with the objective 'binary:logistic' was changed from 'error' to 'logloss'. Explicitly set eval_metric if you'd like to restore the old behavior.\n",
      "[CV]  n_estimators=20, max_depth=12, learning_rate=0.4, colsample_bytree=0.4, base_score=0.2, alpha=100, total=   0.0s\n",
      "[CV] n_estimators=20, max_depth=12, learning_rate=0.4, colsample_bytree=0.4, base_score=0.2, alpha=100 \n",
      "[22:40:50] WARNING: C:/Users/Administrator/workspace/xgboost-win64_release_1.3.0/src/learner.cc:1061: Starting in XGBoost 1.3.0, the default evaluation metric used with the objective 'binary:logistic' was changed from 'error' to 'logloss'. Explicitly set eval_metric if you'd like to restore the old behavior.\n",
      "[CV]  n_estimators=20, max_depth=12, learning_rate=0.4, colsample_bytree=0.4, base_score=0.2, alpha=100, total=   0.0s\n",
      "[CV] n_estimators=20, max_depth=12, learning_rate=0.4, colsample_bytree=0.4, base_score=0.2, alpha=100 \n",
      "[22:40:50] WARNING: C:/Users/Administrator/workspace/xgboost-win64_release_1.3.0/src/learner.cc:1061: Starting in XGBoost 1.3.0, the default evaluation metric used with the objective 'binary:logistic' was changed from 'error' to 'logloss'. Explicitly set eval_metric if you'd like to restore the old behavior.\n",
      "[CV]  n_estimators=20, max_depth=12, learning_rate=0.4, colsample_bytree=0.4, base_score=0.2, alpha=100, total=   0.0s\n",
      "[CV] n_estimators=90, max_depth=16, learning_rate=0.3, colsample_bytree=0.2, base_score=0.8, alpha=80 \n",
      "[22:40:50] WARNING: C:/Users/Administrator/workspace/xgboost-win64_release_1.3.0/src/learner.cc:1061: Starting in XGBoost 1.3.0, the default evaluation metric used with the objective 'binary:logistic' was changed from 'error' to 'logloss'. Explicitly set eval_metric if you'd like to restore the old behavior.\n"
     ]
    },
    {
     "name": "stdout",
     "output_type": "stream",
     "text": [
      "[CV]  n_estimators=90, max_depth=16, learning_rate=0.3, colsample_bytree=0.2, base_score=0.8, alpha=80, total=   0.0s\n",
      "[CV] n_estimators=90, max_depth=16, learning_rate=0.3, colsample_bytree=0.2, base_score=0.8, alpha=80 \n",
      "[22:40:50] WARNING: C:/Users/Administrator/workspace/xgboost-win64_release_1.3.0/src/learner.cc:1061: Starting in XGBoost 1.3.0, the default evaluation metric used with the objective 'binary:logistic' was changed from 'error' to 'logloss'. Explicitly set eval_metric if you'd like to restore the old behavior.\n",
      "[CV]  n_estimators=90, max_depth=16, learning_rate=0.3, colsample_bytree=0.2, base_score=0.8, alpha=80, total=   0.0s\n",
      "[CV] n_estimators=90, max_depth=16, learning_rate=0.3, colsample_bytree=0.2, base_score=0.8, alpha=80 \n",
      "[22:40:50] WARNING: C:/Users/Administrator/workspace/xgboost-win64_release_1.3.0/src/learner.cc:1061: Starting in XGBoost 1.3.0, the default evaluation metric used with the objective 'binary:logistic' was changed from 'error' to 'logloss'. Explicitly set eval_metric if you'd like to restore the old behavior.\n",
      "[CV]  n_estimators=90, max_depth=16, learning_rate=0.3, colsample_bytree=0.2, base_score=0.8, alpha=80, total=   0.0s\n",
      "[CV] n_estimators=90, max_depth=16, learning_rate=0.3, colsample_bytree=0.2, base_score=0.8, alpha=80 \n",
      "[22:40:51] WARNING: C:/Users/Administrator/workspace/xgboost-win64_release_1.3.0/src/learner.cc:1061: Starting in XGBoost 1.3.0, the default evaluation metric used with the objective 'binary:logistic' was changed from 'error' to 'logloss'. Explicitly set eval_metric if you'd like to restore the old behavior.\n",
      "[CV]  n_estimators=90, max_depth=16, learning_rate=0.3, colsample_bytree=0.2, base_score=0.8, alpha=80, total=   0.0s\n",
      "[CV] n_estimators=90, max_depth=16, learning_rate=0.3, colsample_bytree=0.2, base_score=0.8, alpha=80 \n",
      "[22:40:51] WARNING: C:/Users/Administrator/workspace/xgboost-win64_release_1.3.0/src/learner.cc:1061: Starting in XGBoost 1.3.0, the default evaluation metric used with the objective 'binary:logistic' was changed from 'error' to 'logloss'. Explicitly set eval_metric if you'd like to restore the old behavior.\n",
      "[CV]  n_estimators=90, max_depth=16, learning_rate=0.3, colsample_bytree=0.2, base_score=0.8, alpha=80, total=   0.0s\n",
      "[CV] n_estimators=90, max_depth=16, learning_rate=0.3, colsample_bytree=0.2, base_score=0.8, alpha=80 \n",
      "[22:40:51] WARNING: C:/Users/Administrator/workspace/xgboost-win64_release_1.3.0/src/learner.cc:1061: Starting in XGBoost 1.3.0, the default evaluation metric used with the objective 'binary:logistic' was changed from 'error' to 'logloss'. Explicitly set eval_metric if you'd like to restore the old behavior.\n",
      "[CV]  n_estimators=90, max_depth=16, learning_rate=0.3, colsample_bytree=0.2, base_score=0.8, alpha=80, total=   0.0s\n",
      "[CV] n_estimators=90, max_depth=16, learning_rate=0.3, colsample_bytree=0.2, base_score=0.8, alpha=80 \n",
      "[22:40:51] WARNING: C:/Users/Administrator/workspace/xgboost-win64_release_1.3.0/src/learner.cc:1061: Starting in XGBoost 1.3.0, the default evaluation metric used with the objective 'binary:logistic' was changed from 'error' to 'logloss'. Explicitly set eval_metric if you'd like to restore the old behavior.\n",
      "[CV]  n_estimators=90, max_depth=16, learning_rate=0.3, colsample_bytree=0.2, base_score=0.8, alpha=80, total=   0.0s\n",
      "[CV] n_estimators=90, max_depth=16, learning_rate=0.3, colsample_bytree=0.2, base_score=0.8, alpha=80 \n",
      "[22:40:51] WARNING: C:/Users/Administrator/workspace/xgboost-win64_release_1.3.0/src/learner.cc:1061: Starting in XGBoost 1.3.0, the default evaluation metric used with the objective 'binary:logistic' was changed from 'error' to 'logloss'. Explicitly set eval_metric if you'd like to restore the old behavior.\n",
      "[CV]  n_estimators=90, max_depth=16, learning_rate=0.3, colsample_bytree=0.2, base_score=0.8, alpha=80, total=   0.0s\n",
      "[CV] n_estimators=90, max_depth=16, learning_rate=0.3, colsample_bytree=0.2, base_score=0.8, alpha=80 \n",
      "[22:40:51] WARNING: C:/Users/Administrator/workspace/xgboost-win64_release_1.3.0/src/learner.cc:1061: Starting in XGBoost 1.3.0, the default evaluation metric used with the objective 'binary:logistic' was changed from 'error' to 'logloss'. Explicitly set eval_metric if you'd like to restore the old behavior.\n",
      "[CV]  n_estimators=90, max_depth=16, learning_rate=0.3, colsample_bytree=0.2, base_score=0.8, alpha=80, total=   0.0s\n",
      "[CV] n_estimators=90, max_depth=16, learning_rate=0.3, colsample_bytree=0.2, base_score=0.8, alpha=80 \n",
      "[22:40:51] WARNING: C:/Users/Administrator/workspace/xgboost-win64_release_1.3.0/src/learner.cc:1061: Starting in XGBoost 1.3.0, the default evaluation metric used with the objective 'binary:logistic' was changed from 'error' to 'logloss'. Explicitly set eval_metric if you'd like to restore the old behavior.\n",
      "[CV]  n_estimators=90, max_depth=16, learning_rate=0.3, colsample_bytree=0.2, base_score=0.8, alpha=80, total=   0.0s\n",
      "[CV] n_estimators=80, max_depth=20, learning_rate=0.4, colsample_bytree=0.3, base_score=0.6, alpha=20 \n",
      "[22:40:51] WARNING: C:/Users/Administrator/workspace/xgboost-win64_release_1.3.0/src/learner.cc:1061: Starting in XGBoost 1.3.0, the default evaluation metric used with the objective 'binary:logistic' was changed from 'error' to 'logloss'. Explicitly set eval_metric if you'd like to restore the old behavior.\n",
      "[CV]  n_estimators=80, max_depth=20, learning_rate=0.4, colsample_bytree=0.3, base_score=0.6, alpha=20, total=   0.0s\n",
      "[CV] n_estimators=80, max_depth=20, learning_rate=0.4, colsample_bytree=0.3, base_score=0.6, alpha=20 \n",
      "[22:40:51] WARNING: C:/Users/Administrator/workspace/xgboost-win64_release_1.3.0/src/learner.cc:1061: Starting in XGBoost 1.3.0, the default evaluation metric used with the objective 'binary:logistic' was changed from 'error' to 'logloss'. Explicitly set eval_metric if you'd like to restore the old behavior.\n",
      "[CV]  n_estimators=80, max_depth=20, learning_rate=0.4, colsample_bytree=0.3, base_score=0.6, alpha=20, total=   0.0s\n",
      "[CV] n_estimators=80, max_depth=20, learning_rate=0.4, colsample_bytree=0.3, base_score=0.6, alpha=20 \n",
      "[22:40:51] WARNING: C:/Users/Administrator/workspace/xgboost-win64_release_1.3.0/src/learner.cc:1061: Starting in XGBoost 1.3.0, the default evaluation metric used with the objective 'binary:logistic' was changed from 'error' to 'logloss'. Explicitly set eval_metric if you'd like to restore the old behavior.\n",
      "[CV]  n_estimators=80, max_depth=20, learning_rate=0.4, colsample_bytree=0.3, base_score=0.6, alpha=20, total=   0.0s\n",
      "[CV] n_estimators=80, max_depth=20, learning_rate=0.4, colsample_bytree=0.3, base_score=0.6, alpha=20 \n",
      "[22:40:51] WARNING: C:/Users/Administrator/workspace/xgboost-win64_release_1.3.0/src/learner.cc:1061: Starting in XGBoost 1.3.0, the default evaluation metric used with the objective 'binary:logistic' was changed from 'error' to 'logloss'. Explicitly set eval_metric if you'd like to restore the old behavior.\n",
      "[CV]  n_estimators=80, max_depth=20, learning_rate=0.4, colsample_bytree=0.3, base_score=0.6, alpha=20, total=   0.0s\n",
      "[CV] n_estimators=80, max_depth=20, learning_rate=0.4, colsample_bytree=0.3, base_score=0.6, alpha=20 \n",
      "[22:40:52] WARNING: C:/Users/Administrator/workspace/xgboost-win64_release_1.3.0/src/learner.cc:1061: Starting in XGBoost 1.3.0, the default evaluation metric used with the objective 'binary:logistic' was changed from 'error' to 'logloss'. Explicitly set eval_metric if you'd like to restore the old behavior.\n",
      "[CV]  n_estimators=80, max_depth=20, learning_rate=0.4, colsample_bytree=0.3, base_score=0.6, alpha=20, total=   0.0s\n",
      "[CV] n_estimators=80, max_depth=20, learning_rate=0.4, colsample_bytree=0.3, base_score=0.6, alpha=20 \n",
      "[22:40:52] WARNING: C:/Users/Administrator/workspace/xgboost-win64_release_1.3.0/src/learner.cc:1061: Starting in XGBoost 1.3.0, the default evaluation metric used with the objective 'binary:logistic' was changed from 'error' to 'logloss'. Explicitly set eval_metric if you'd like to restore the old behavior.\n",
      "[CV]  n_estimators=80, max_depth=20, learning_rate=0.4, colsample_bytree=0.3, base_score=0.6, alpha=20, total=   0.0s\n",
      "[CV] n_estimators=80, max_depth=20, learning_rate=0.4, colsample_bytree=0.3, base_score=0.6, alpha=20 \n",
      "[22:40:52] WARNING: C:/Users/Administrator/workspace/xgboost-win64_release_1.3.0/src/learner.cc:1061: Starting in XGBoost 1.3.0, the default evaluation metric used with the objective 'binary:logistic' was changed from 'error' to 'logloss'. Explicitly set eval_metric if you'd like to restore the old behavior.\n",
      "[CV]  n_estimators=80, max_depth=20, learning_rate=0.4, colsample_bytree=0.3, base_score=0.6, alpha=20, total=   0.0s\n",
      "[CV] n_estimators=80, max_depth=20, learning_rate=0.4, colsample_bytree=0.3, base_score=0.6, alpha=20 \n"
     ]
    },
    {
     "name": "stdout",
     "output_type": "stream",
     "text": [
      "[22:40:52] WARNING: C:/Users/Administrator/workspace/xgboost-win64_release_1.3.0/src/learner.cc:1061: Starting in XGBoost 1.3.0, the default evaluation metric used with the objective 'binary:logistic' was changed from 'error' to 'logloss'. Explicitly set eval_metric if you'd like to restore the old behavior.\n",
      "[CV]  n_estimators=80, max_depth=20, learning_rate=0.4, colsample_bytree=0.3, base_score=0.6, alpha=20, total=   0.0s\n",
      "[CV] n_estimators=80, max_depth=20, learning_rate=0.4, colsample_bytree=0.3, base_score=0.6, alpha=20 \n",
      "[22:40:52] WARNING: C:/Users/Administrator/workspace/xgboost-win64_release_1.3.0/src/learner.cc:1061: Starting in XGBoost 1.3.0, the default evaluation metric used with the objective 'binary:logistic' was changed from 'error' to 'logloss'. Explicitly set eval_metric if you'd like to restore the old behavior.\n",
      "[CV]  n_estimators=80, max_depth=20, learning_rate=0.4, colsample_bytree=0.3, base_score=0.6, alpha=20, total=   0.0s\n",
      "[CV] n_estimators=80, max_depth=20, learning_rate=0.4, colsample_bytree=0.3, base_score=0.6, alpha=20 \n",
      "[22:40:52] WARNING: C:/Users/Administrator/workspace/xgboost-win64_release_1.3.0/src/learner.cc:1061: Starting in XGBoost 1.3.0, the default evaluation metric used with the objective 'binary:logistic' was changed from 'error' to 'logloss'. Explicitly set eval_metric if you'd like to restore the old behavior.\n",
      "[CV]  n_estimators=80, max_depth=20, learning_rate=0.4, colsample_bytree=0.3, base_score=0.6, alpha=20, total=   0.0s\n",
      "[CV] n_estimators=100, max_depth=4, learning_rate=0.5, colsample_bytree=0.9, base_score=0.8, alpha=30 \n",
      "[22:40:52] WARNING: C:/Users/Administrator/workspace/xgboost-win64_release_1.3.0/src/learner.cc:1061: Starting in XGBoost 1.3.0, the default evaluation metric used with the objective 'binary:logistic' was changed from 'error' to 'logloss'. Explicitly set eval_metric if you'd like to restore the old behavior.\n",
      "[CV]  n_estimators=100, max_depth=4, learning_rate=0.5, colsample_bytree=0.9, base_score=0.8, alpha=30, total=   0.0s\n",
      "[CV] n_estimators=100, max_depth=4, learning_rate=0.5, colsample_bytree=0.9, base_score=0.8, alpha=30 \n",
      "[22:40:52] WARNING: C:/Users/Administrator/workspace/xgboost-win64_release_1.3.0/src/learner.cc:1061: Starting in XGBoost 1.3.0, the default evaluation metric used with the objective 'binary:logistic' was changed from 'error' to 'logloss'. Explicitly set eval_metric if you'd like to restore the old behavior.\n",
      "[CV]  n_estimators=100, max_depth=4, learning_rate=0.5, colsample_bytree=0.9, base_score=0.8, alpha=30, total=   0.0s\n",
      "[CV] n_estimators=100, max_depth=4, learning_rate=0.5, colsample_bytree=0.9, base_score=0.8, alpha=30 \n",
      "[22:40:52] WARNING: C:/Users/Administrator/workspace/xgboost-win64_release_1.3.0/src/learner.cc:1061: Starting in XGBoost 1.3.0, the default evaluation metric used with the objective 'binary:logistic' was changed from 'error' to 'logloss'. Explicitly set eval_metric if you'd like to restore the old behavior.\n",
      "[CV]  n_estimators=100, max_depth=4, learning_rate=0.5, colsample_bytree=0.9, base_score=0.8, alpha=30, total=   0.0s\n",
      "[CV] n_estimators=100, max_depth=4, learning_rate=0.5, colsample_bytree=0.9, base_score=0.8, alpha=30 \n",
      "[22:40:53] WARNING: C:/Users/Administrator/workspace/xgboost-win64_release_1.3.0/src/learner.cc:1061: Starting in XGBoost 1.3.0, the default evaluation metric used with the objective 'binary:logistic' was changed from 'error' to 'logloss'. Explicitly set eval_metric if you'd like to restore the old behavior.\n",
      "[CV]  n_estimators=100, max_depth=4, learning_rate=0.5, colsample_bytree=0.9, base_score=0.8, alpha=30, total=   0.0s\n",
      "[CV] n_estimators=100, max_depth=4, learning_rate=0.5, colsample_bytree=0.9, base_score=0.8, alpha=30 \n",
      "[22:40:53] WARNING: C:/Users/Administrator/workspace/xgboost-win64_release_1.3.0/src/learner.cc:1061: Starting in XGBoost 1.3.0, the default evaluation metric used with the objective 'binary:logistic' was changed from 'error' to 'logloss'. Explicitly set eval_metric if you'd like to restore the old behavior.\n",
      "[CV]  n_estimators=100, max_depth=4, learning_rate=0.5, colsample_bytree=0.9, base_score=0.8, alpha=30, total=   0.0s\n",
      "[CV] n_estimators=100, max_depth=4, learning_rate=0.5, colsample_bytree=0.9, base_score=0.8, alpha=30 \n",
      "[22:40:53] WARNING: C:/Users/Administrator/workspace/xgboost-win64_release_1.3.0/src/learner.cc:1061: Starting in XGBoost 1.3.0, the default evaluation metric used with the objective 'binary:logistic' was changed from 'error' to 'logloss'. Explicitly set eval_metric if you'd like to restore the old behavior.\n",
      "[CV]  n_estimators=100, max_depth=4, learning_rate=0.5, colsample_bytree=0.9, base_score=0.8, alpha=30, total=   0.0s\n",
      "[CV] n_estimators=100, max_depth=4, learning_rate=0.5, colsample_bytree=0.9, base_score=0.8, alpha=30 \n",
      "[22:40:53] WARNING: C:/Users/Administrator/workspace/xgboost-win64_release_1.3.0/src/learner.cc:1061: Starting in XGBoost 1.3.0, the default evaluation metric used with the objective 'binary:logistic' was changed from 'error' to 'logloss'. Explicitly set eval_metric if you'd like to restore the old behavior.\n",
      "[CV]  n_estimators=100, max_depth=4, learning_rate=0.5, colsample_bytree=0.9, base_score=0.8, alpha=30, total=   0.0s\n",
      "[CV] n_estimators=100, max_depth=4, learning_rate=0.5, colsample_bytree=0.9, base_score=0.8, alpha=30 \n",
      "[22:40:53] WARNING: C:/Users/Administrator/workspace/xgboost-win64_release_1.3.0/src/learner.cc:1061: Starting in XGBoost 1.3.0, the default evaluation metric used with the objective 'binary:logistic' was changed from 'error' to 'logloss'. Explicitly set eval_metric if you'd like to restore the old behavior.\n",
      "[CV]  n_estimators=100, max_depth=4, learning_rate=0.5, colsample_bytree=0.9, base_score=0.8, alpha=30, total=   0.0s\n",
      "[CV] n_estimators=100, max_depth=4, learning_rate=0.5, colsample_bytree=0.9, base_score=0.8, alpha=30 \n",
      "[22:40:53] WARNING: C:/Users/Administrator/workspace/xgboost-win64_release_1.3.0/src/learner.cc:1061: Starting in XGBoost 1.3.0, the default evaluation metric used with the objective 'binary:logistic' was changed from 'error' to 'logloss'. Explicitly set eval_metric if you'd like to restore the old behavior.\n",
      "[CV]  n_estimators=100, max_depth=4, learning_rate=0.5, colsample_bytree=0.9, base_score=0.8, alpha=30, total=   0.0s\n",
      "[CV] n_estimators=100, max_depth=4, learning_rate=0.5, colsample_bytree=0.9, base_score=0.8, alpha=30 \n",
      "[22:40:53] WARNING: C:/Users/Administrator/workspace/xgboost-win64_release_1.3.0/src/learner.cc:1061: Starting in XGBoost 1.3.0, the default evaluation metric used with the objective 'binary:logistic' was changed from 'error' to 'logloss'. Explicitly set eval_metric if you'd like to restore the old behavior.\n",
      "[CV]  n_estimators=100, max_depth=4, learning_rate=0.5, colsample_bytree=0.9, base_score=0.8, alpha=30, total=   0.0s\n",
      "[CV] n_estimators=60, max_depth=18, learning_rate=0.5, colsample_bytree=0.6, base_score=0.3, alpha=50 \n",
      "[22:40:53] WARNING: C:/Users/Administrator/workspace/xgboost-win64_release_1.3.0/src/learner.cc:1061: Starting in XGBoost 1.3.0, the default evaluation metric used with the objective 'binary:logistic' was changed from 'error' to 'logloss'. Explicitly set eval_metric if you'd like to restore the old behavior.\n",
      "[CV]  n_estimators=60, max_depth=18, learning_rate=0.5, colsample_bytree=0.6, base_score=0.3, alpha=50, total=   0.0s\n",
      "[CV] n_estimators=60, max_depth=18, learning_rate=0.5, colsample_bytree=0.6, base_score=0.3, alpha=50 \n",
      "[22:40:53] WARNING: C:/Users/Administrator/workspace/xgboost-win64_release_1.3.0/src/learner.cc:1061: Starting in XGBoost 1.3.0, the default evaluation metric used with the objective 'binary:logistic' was changed from 'error' to 'logloss'. Explicitly set eval_metric if you'd like to restore the old behavior.\n",
      "[CV]  n_estimators=60, max_depth=18, learning_rate=0.5, colsample_bytree=0.6, base_score=0.3, alpha=50, total=   0.0s\n",
      "[CV] n_estimators=60, max_depth=18, learning_rate=0.5, colsample_bytree=0.6, base_score=0.3, alpha=50 \n",
      "[22:40:53] WARNING: C:/Users/Administrator/workspace/xgboost-win64_release_1.3.0/src/learner.cc:1061: Starting in XGBoost 1.3.0, the default evaluation metric used with the objective 'binary:logistic' was changed from 'error' to 'logloss'. Explicitly set eval_metric if you'd like to restore the old behavior.\n",
      "[CV]  n_estimators=60, max_depth=18, learning_rate=0.5, colsample_bytree=0.6, base_score=0.3, alpha=50, total=   0.0s\n",
      "[CV] n_estimators=60, max_depth=18, learning_rate=0.5, colsample_bytree=0.6, base_score=0.3, alpha=50 \n",
      "[22:40:53] WARNING: C:/Users/Administrator/workspace/xgboost-win64_release_1.3.0/src/learner.cc:1061: Starting in XGBoost 1.3.0, the default evaluation metric used with the objective 'binary:logistic' was changed from 'error' to 'logloss'. Explicitly set eval_metric if you'd like to restore the old behavior.\n"
     ]
    },
    {
     "name": "stdout",
     "output_type": "stream",
     "text": [
      "[CV]  n_estimators=60, max_depth=18, learning_rate=0.5, colsample_bytree=0.6, base_score=0.3, alpha=50, total=   0.0s\n",
      "[CV] n_estimators=60, max_depth=18, learning_rate=0.5, colsample_bytree=0.6, base_score=0.3, alpha=50 \n",
      "[22:40:54] WARNING: C:/Users/Administrator/workspace/xgboost-win64_release_1.3.0/src/learner.cc:1061: Starting in XGBoost 1.3.0, the default evaluation metric used with the objective 'binary:logistic' was changed from 'error' to 'logloss'. Explicitly set eval_metric if you'd like to restore the old behavior.\n",
      "[CV]  n_estimators=60, max_depth=18, learning_rate=0.5, colsample_bytree=0.6, base_score=0.3, alpha=50, total=   0.0s\n",
      "[CV] n_estimators=60, max_depth=18, learning_rate=0.5, colsample_bytree=0.6, base_score=0.3, alpha=50 \n",
      "[22:40:54] WARNING: C:/Users/Administrator/workspace/xgboost-win64_release_1.3.0/src/learner.cc:1061: Starting in XGBoost 1.3.0, the default evaluation metric used with the objective 'binary:logistic' was changed from 'error' to 'logloss'. Explicitly set eval_metric if you'd like to restore the old behavior.\n",
      "[CV]  n_estimators=60, max_depth=18, learning_rate=0.5, colsample_bytree=0.6, base_score=0.3, alpha=50, total=   0.0s\n",
      "[CV] n_estimators=60, max_depth=18, learning_rate=0.5, colsample_bytree=0.6, base_score=0.3, alpha=50 \n",
      "[22:40:54] WARNING: C:/Users/Administrator/workspace/xgboost-win64_release_1.3.0/src/learner.cc:1061: Starting in XGBoost 1.3.0, the default evaluation metric used with the objective 'binary:logistic' was changed from 'error' to 'logloss'. Explicitly set eval_metric if you'd like to restore the old behavior.\n",
      "[CV]  n_estimators=60, max_depth=18, learning_rate=0.5, colsample_bytree=0.6, base_score=0.3, alpha=50, total=   0.0s\n",
      "[CV] n_estimators=60, max_depth=18, learning_rate=0.5, colsample_bytree=0.6, base_score=0.3, alpha=50 \n",
      "[22:40:54] WARNING: C:/Users/Administrator/workspace/xgboost-win64_release_1.3.0/src/learner.cc:1061: Starting in XGBoost 1.3.0, the default evaluation metric used with the objective 'binary:logistic' was changed from 'error' to 'logloss'. Explicitly set eval_metric if you'd like to restore the old behavior.\n",
      "[CV]  n_estimators=60, max_depth=18, learning_rate=0.5, colsample_bytree=0.6, base_score=0.3, alpha=50, total=   0.0s\n",
      "[CV] n_estimators=60, max_depth=18, learning_rate=0.5, colsample_bytree=0.6, base_score=0.3, alpha=50 \n",
      "[22:40:54] WARNING: C:/Users/Administrator/workspace/xgboost-win64_release_1.3.0/src/learner.cc:1061: Starting in XGBoost 1.3.0, the default evaluation metric used with the objective 'binary:logistic' was changed from 'error' to 'logloss'. Explicitly set eval_metric if you'd like to restore the old behavior.\n",
      "[CV]  n_estimators=60, max_depth=18, learning_rate=0.5, colsample_bytree=0.6, base_score=0.3, alpha=50, total=   0.0s\n",
      "[CV] n_estimators=60, max_depth=18, learning_rate=0.5, colsample_bytree=0.6, base_score=0.3, alpha=50 \n",
      "[22:40:54] WARNING: C:/Users/Administrator/workspace/xgboost-win64_release_1.3.0/src/learner.cc:1061: Starting in XGBoost 1.3.0, the default evaluation metric used with the objective 'binary:logistic' was changed from 'error' to 'logloss'. Explicitly set eval_metric if you'd like to restore the old behavior.\n",
      "[CV]  n_estimators=60, max_depth=18, learning_rate=0.5, colsample_bytree=0.6, base_score=0.3, alpha=50, total=   0.0s\n",
      "[CV] n_estimators=20, max_depth=4, learning_rate=0.1, colsample_bytree=0.1, base_score=0.7, alpha=40 \n",
      "[22:40:54] WARNING: C:/Users/Administrator/workspace/xgboost-win64_release_1.3.0/src/learner.cc:1061: Starting in XGBoost 1.3.0, the default evaluation metric used with the objective 'binary:logistic' was changed from 'error' to 'logloss'. Explicitly set eval_metric if you'd like to restore the old behavior.\n",
      "[CV]  n_estimators=20, max_depth=4, learning_rate=0.1, colsample_bytree=0.1, base_score=0.7, alpha=40, total=   0.0s\n",
      "[CV] n_estimators=20, max_depth=4, learning_rate=0.1, colsample_bytree=0.1, base_score=0.7, alpha=40 \n",
      "[22:40:54] WARNING: C:/Users/Administrator/workspace/xgboost-win64_release_1.3.0/src/learner.cc:1061: Starting in XGBoost 1.3.0, the default evaluation metric used with the objective 'binary:logistic' was changed from 'error' to 'logloss'. Explicitly set eval_metric if you'd like to restore the old behavior.\n",
      "[CV]  n_estimators=20, max_depth=4, learning_rate=0.1, colsample_bytree=0.1, base_score=0.7, alpha=40, total=   0.0s\n",
      "[CV] n_estimators=20, max_depth=4, learning_rate=0.1, colsample_bytree=0.1, base_score=0.7, alpha=40 \n",
      "[22:40:54] WARNING: C:/Users/Administrator/workspace/xgboost-win64_release_1.3.0/src/learner.cc:1061: Starting in XGBoost 1.3.0, the default evaluation metric used with the objective 'binary:logistic' was changed from 'error' to 'logloss'. Explicitly set eval_metric if you'd like to restore the old behavior.\n",
      "[CV]  n_estimators=20, max_depth=4, learning_rate=0.1, colsample_bytree=0.1, base_score=0.7, alpha=40, total=   0.0s\n",
      "[CV] n_estimators=20, max_depth=4, learning_rate=0.1, colsample_bytree=0.1, base_score=0.7, alpha=40 \n",
      "[22:40:54] WARNING: C:/Users/Administrator/workspace/xgboost-win64_release_1.3.0/src/learner.cc:1061: Starting in XGBoost 1.3.0, the default evaluation metric used with the objective 'binary:logistic' was changed from 'error' to 'logloss'. Explicitly set eval_metric if you'd like to restore the old behavior.\n",
      "[CV]  n_estimators=20, max_depth=4, learning_rate=0.1, colsample_bytree=0.1, base_score=0.7, alpha=40, total=   0.0s\n",
      "[CV] n_estimators=20, max_depth=4, learning_rate=0.1, colsample_bytree=0.1, base_score=0.7, alpha=40 \n",
      "[22:40:54] WARNING: C:/Users/Administrator/workspace/xgboost-win64_release_1.3.0/src/learner.cc:1061: Starting in XGBoost 1.3.0, the default evaluation metric used with the objective 'binary:logistic' was changed from 'error' to 'logloss'. Explicitly set eval_metric if you'd like to restore the old behavior.\n",
      "[CV]  n_estimators=20, max_depth=4, learning_rate=0.1, colsample_bytree=0.1, base_score=0.7, alpha=40, total=   0.0s\n",
      "[CV] n_estimators=20, max_depth=4, learning_rate=0.1, colsample_bytree=0.1, base_score=0.7, alpha=40 \n",
      "[22:40:54] WARNING: C:/Users/Administrator/workspace/xgboost-win64_release_1.3.0/src/learner.cc:1061: Starting in XGBoost 1.3.0, the default evaluation metric used with the objective 'binary:logistic' was changed from 'error' to 'logloss'. Explicitly set eval_metric if you'd like to restore the old behavior.\n",
      "[CV]  n_estimators=20, max_depth=4, learning_rate=0.1, colsample_bytree=0.1, base_score=0.7, alpha=40, total=   0.0s\n",
      "[CV] n_estimators=20, max_depth=4, learning_rate=0.1, colsample_bytree=0.1, base_score=0.7, alpha=40 \n",
      "[22:40:54] WARNING: C:/Users/Administrator/workspace/xgboost-win64_release_1.3.0/src/learner.cc:1061: Starting in XGBoost 1.3.0, the default evaluation metric used with the objective 'binary:logistic' was changed from 'error' to 'logloss'. Explicitly set eval_metric if you'd like to restore the old behavior.\n",
      "[CV]  n_estimators=20, max_depth=4, learning_rate=0.1, colsample_bytree=0.1, base_score=0.7, alpha=40, total=   0.0s\n",
      "[CV] n_estimators=20, max_depth=4, learning_rate=0.1, colsample_bytree=0.1, base_score=0.7, alpha=40 \n",
      "[22:40:54] WARNING: C:/Users/Administrator/workspace/xgboost-win64_release_1.3.0/src/learner.cc:1061: Starting in XGBoost 1.3.0, the default evaluation metric used with the objective 'binary:logistic' was changed from 'error' to 'logloss'. Explicitly set eval_metric if you'd like to restore the old behavior.\n",
      "[CV]  n_estimators=20, max_depth=4, learning_rate=0.1, colsample_bytree=0.1, base_score=0.7, alpha=40, total=   0.0s\n",
      "[CV] n_estimators=20, max_depth=4, learning_rate=0.1, colsample_bytree=0.1, base_score=0.7, alpha=40 \n",
      "[22:40:54] WARNING: C:/Users/Administrator/workspace/xgboost-win64_release_1.3.0/src/learner.cc:1061: Starting in XGBoost 1.3.0, the default evaluation metric used with the objective 'binary:logistic' was changed from 'error' to 'logloss'. Explicitly set eval_metric if you'd like to restore the old behavior.\n",
      "[CV]  n_estimators=20, max_depth=4, learning_rate=0.1, colsample_bytree=0.1, base_score=0.7, alpha=40, total=   0.0s\n",
      "[CV] n_estimators=20, max_depth=4, learning_rate=0.1, colsample_bytree=0.1, base_score=0.7, alpha=40 \n",
      "[22:40:54] WARNING: C:/Users/Administrator/workspace/xgboost-win64_release_1.3.0/src/learner.cc:1061: Starting in XGBoost 1.3.0, the default evaluation metric used with the objective 'binary:logistic' was changed from 'error' to 'logloss'. Explicitly set eval_metric if you'd like to restore the old behavior.\n",
      "[CV]  n_estimators=20, max_depth=4, learning_rate=0.1, colsample_bytree=0.1, base_score=0.7, alpha=40, total=   0.0s\n",
      "[CV] n_estimators=90, max_depth=2, learning_rate=0.7, colsample_bytree=0.3, base_score=0.7, alpha=50 \n",
      "[22:40:54] WARNING: C:/Users/Administrator/workspace/xgboost-win64_release_1.3.0/src/learner.cc:1061: Starting in XGBoost 1.3.0, the default evaluation metric used with the objective 'binary:logistic' was changed from 'error' to 'logloss'. Explicitly set eval_metric if you'd like to restore the old behavior.\n"
     ]
    },
    {
     "name": "stdout",
     "output_type": "stream",
     "text": [
      "[CV]  n_estimators=90, max_depth=2, learning_rate=0.7, colsample_bytree=0.3, base_score=0.7, alpha=50, total=   0.0s\n",
      "[CV] n_estimators=90, max_depth=2, learning_rate=0.7, colsample_bytree=0.3, base_score=0.7, alpha=50 \n",
      "[22:40:54] WARNING: C:/Users/Administrator/workspace/xgboost-win64_release_1.3.0/src/learner.cc:1061: Starting in XGBoost 1.3.0, the default evaluation metric used with the objective 'binary:logistic' was changed from 'error' to 'logloss'. Explicitly set eval_metric if you'd like to restore the old behavior.\n",
      "[CV]  n_estimators=90, max_depth=2, learning_rate=0.7, colsample_bytree=0.3, base_score=0.7, alpha=50, total=   0.0s\n",
      "[CV] n_estimators=90, max_depth=2, learning_rate=0.7, colsample_bytree=0.3, base_score=0.7, alpha=50 \n",
      "[22:40:55] WARNING: C:/Users/Administrator/workspace/xgboost-win64_release_1.3.0/src/learner.cc:1061: Starting in XGBoost 1.3.0, the default evaluation metric used with the objective 'binary:logistic' was changed from 'error' to 'logloss'. Explicitly set eval_metric if you'd like to restore the old behavior.\n",
      "[CV]  n_estimators=90, max_depth=2, learning_rate=0.7, colsample_bytree=0.3, base_score=0.7, alpha=50, total=   0.0s\n",
      "[CV] n_estimators=90, max_depth=2, learning_rate=0.7, colsample_bytree=0.3, base_score=0.7, alpha=50 \n",
      "[22:40:55] WARNING: C:/Users/Administrator/workspace/xgboost-win64_release_1.3.0/src/learner.cc:1061: Starting in XGBoost 1.3.0, the default evaluation metric used with the objective 'binary:logistic' was changed from 'error' to 'logloss'. Explicitly set eval_metric if you'd like to restore the old behavior.\n",
      "[CV]  n_estimators=90, max_depth=2, learning_rate=0.7, colsample_bytree=0.3, base_score=0.7, alpha=50, total=   0.0s\n",
      "[CV] n_estimators=90, max_depth=2, learning_rate=0.7, colsample_bytree=0.3, base_score=0.7, alpha=50 \n",
      "[22:40:55] WARNING: C:/Users/Administrator/workspace/xgboost-win64_release_1.3.0/src/learner.cc:1061: Starting in XGBoost 1.3.0, the default evaluation metric used with the objective 'binary:logistic' was changed from 'error' to 'logloss'. Explicitly set eval_metric if you'd like to restore the old behavior.\n",
      "[CV]  n_estimators=90, max_depth=2, learning_rate=0.7, colsample_bytree=0.3, base_score=0.7, alpha=50, total=   0.0s\n",
      "[CV] n_estimators=90, max_depth=2, learning_rate=0.7, colsample_bytree=0.3, base_score=0.7, alpha=50 \n",
      "[22:40:55] WARNING: C:/Users/Administrator/workspace/xgboost-win64_release_1.3.0/src/learner.cc:1061: Starting in XGBoost 1.3.0, the default evaluation metric used with the objective 'binary:logistic' was changed from 'error' to 'logloss'. Explicitly set eval_metric if you'd like to restore the old behavior.\n",
      "[CV]  n_estimators=90, max_depth=2, learning_rate=0.7, colsample_bytree=0.3, base_score=0.7, alpha=50, total=   0.0s\n",
      "[CV] n_estimators=90, max_depth=2, learning_rate=0.7, colsample_bytree=0.3, base_score=0.7, alpha=50 \n",
      "[22:40:55] WARNING: C:/Users/Administrator/workspace/xgboost-win64_release_1.3.0/src/learner.cc:1061: Starting in XGBoost 1.3.0, the default evaluation metric used with the objective 'binary:logistic' was changed from 'error' to 'logloss'. Explicitly set eval_metric if you'd like to restore the old behavior.\n",
      "[CV]  n_estimators=90, max_depth=2, learning_rate=0.7, colsample_bytree=0.3, base_score=0.7, alpha=50, total=   0.0s\n",
      "[CV] n_estimators=90, max_depth=2, learning_rate=0.7, colsample_bytree=0.3, base_score=0.7, alpha=50 \n",
      "[22:40:55] WARNING: C:/Users/Administrator/workspace/xgboost-win64_release_1.3.0/src/learner.cc:1061: Starting in XGBoost 1.3.0, the default evaluation metric used with the objective 'binary:logistic' was changed from 'error' to 'logloss'. Explicitly set eval_metric if you'd like to restore the old behavior.\n",
      "[CV]  n_estimators=90, max_depth=2, learning_rate=0.7, colsample_bytree=0.3, base_score=0.7, alpha=50, total=   0.0s\n",
      "[CV] n_estimators=90, max_depth=2, learning_rate=0.7, colsample_bytree=0.3, base_score=0.7, alpha=50 \n",
      "[22:40:55] WARNING: C:/Users/Administrator/workspace/xgboost-win64_release_1.3.0/src/learner.cc:1061: Starting in XGBoost 1.3.0, the default evaluation metric used with the objective 'binary:logistic' was changed from 'error' to 'logloss'. Explicitly set eval_metric if you'd like to restore the old behavior.\n",
      "[CV]  n_estimators=90, max_depth=2, learning_rate=0.7, colsample_bytree=0.3, base_score=0.7, alpha=50, total=   0.0s\n",
      "[CV] n_estimators=90, max_depth=2, learning_rate=0.7, colsample_bytree=0.3, base_score=0.7, alpha=50 \n",
      "[22:40:55] WARNING: C:/Users/Administrator/workspace/xgboost-win64_release_1.3.0/src/learner.cc:1061: Starting in XGBoost 1.3.0, the default evaluation metric used with the objective 'binary:logistic' was changed from 'error' to 'logloss'. Explicitly set eval_metric if you'd like to restore the old behavior.\n",
      "[CV]  n_estimators=90, max_depth=2, learning_rate=0.7, colsample_bytree=0.3, base_score=0.7, alpha=50, total=   0.0s\n",
      "[CV] n_estimators=10, max_depth=16, learning_rate=0.6, colsample_bytree=0.7, base_score=0.6, alpha=10 \n",
      "[22:40:55] WARNING: C:/Users/Administrator/workspace/xgboost-win64_release_1.3.0/src/learner.cc:1061: Starting in XGBoost 1.3.0, the default evaluation metric used with the objective 'binary:logistic' was changed from 'error' to 'logloss'. Explicitly set eval_metric if you'd like to restore the old behavior.\n",
      "[CV]  n_estimators=10, max_depth=16, learning_rate=0.6, colsample_bytree=0.7, base_score=0.6, alpha=10, total=   0.0s\n",
      "[CV] n_estimators=10, max_depth=16, learning_rate=0.6, colsample_bytree=0.7, base_score=0.6, alpha=10 \n",
      "[22:40:55] WARNING: C:/Users/Administrator/workspace/xgboost-win64_release_1.3.0/src/learner.cc:1061: Starting in XGBoost 1.3.0, the default evaluation metric used with the objective 'binary:logistic' was changed from 'error' to 'logloss'. Explicitly set eval_metric if you'd like to restore the old behavior.\n",
      "[CV]  n_estimators=10, max_depth=16, learning_rate=0.6, colsample_bytree=0.7, base_score=0.6, alpha=10, total=   0.0s\n",
      "[CV] n_estimators=10, max_depth=16, learning_rate=0.6, colsample_bytree=0.7, base_score=0.6, alpha=10 \n",
      "[22:40:55] WARNING: C:/Users/Administrator/workspace/xgboost-win64_release_1.3.0/src/learner.cc:1061: Starting in XGBoost 1.3.0, the default evaluation metric used with the objective 'binary:logistic' was changed from 'error' to 'logloss'. Explicitly set eval_metric if you'd like to restore the old behavior.\n",
      "[CV]  n_estimators=10, max_depth=16, learning_rate=0.6, colsample_bytree=0.7, base_score=0.6, alpha=10, total=   0.0s\n",
      "[CV] n_estimators=10, max_depth=16, learning_rate=0.6, colsample_bytree=0.7, base_score=0.6, alpha=10 \n",
      "[22:40:55] WARNING: C:/Users/Administrator/workspace/xgboost-win64_release_1.3.0/src/learner.cc:1061: Starting in XGBoost 1.3.0, the default evaluation metric used with the objective 'binary:logistic' was changed from 'error' to 'logloss'. Explicitly set eval_metric if you'd like to restore the old behavior.\n",
      "[CV]  n_estimators=10, max_depth=16, learning_rate=0.6, colsample_bytree=0.7, base_score=0.6, alpha=10, total=   0.0s\n",
      "[CV] n_estimators=10, max_depth=16, learning_rate=0.6, colsample_bytree=0.7, base_score=0.6, alpha=10 \n",
      "[22:40:55] WARNING: C:/Users/Administrator/workspace/xgboost-win64_release_1.3.0/src/learner.cc:1061: Starting in XGBoost 1.3.0, the default evaluation metric used with the objective 'binary:logistic' was changed from 'error' to 'logloss'. Explicitly set eval_metric if you'd like to restore the old behavior.\n",
      "[CV]  n_estimators=10, max_depth=16, learning_rate=0.6, colsample_bytree=0.7, base_score=0.6, alpha=10, total=   0.0s\n",
      "[CV] n_estimators=10, max_depth=16, learning_rate=0.6, colsample_bytree=0.7, base_score=0.6, alpha=10 \n",
      "[22:40:55] WARNING: C:/Users/Administrator/workspace/xgboost-win64_release_1.3.0/src/learner.cc:1061: Starting in XGBoost 1.3.0, the default evaluation metric used with the objective 'binary:logistic' was changed from 'error' to 'logloss'. Explicitly set eval_metric if you'd like to restore the old behavior.\n",
      "[CV]  n_estimators=10, max_depth=16, learning_rate=0.6, colsample_bytree=0.7, base_score=0.6, alpha=10, total=   0.0s\n",
      "[CV] n_estimators=10, max_depth=16, learning_rate=0.6, colsample_bytree=0.7, base_score=0.6, alpha=10 \n",
      "[22:40:55] WARNING: C:/Users/Administrator/workspace/xgboost-win64_release_1.3.0/src/learner.cc:1061: Starting in XGBoost 1.3.0, the default evaluation metric used with the objective 'binary:logistic' was changed from 'error' to 'logloss'. Explicitly set eval_metric if you'd like to restore the old behavior.\n",
      "[CV]  n_estimators=10, max_depth=16, learning_rate=0.6, colsample_bytree=0.7, base_score=0.6, alpha=10, total=   0.0s\n",
      "[CV] n_estimators=10, max_depth=16, learning_rate=0.6, colsample_bytree=0.7, base_score=0.6, alpha=10 \n",
      "[22:40:55] WARNING: C:/Users/Administrator/workspace/xgboost-win64_release_1.3.0/src/learner.cc:1061: Starting in XGBoost 1.3.0, the default evaluation metric used with the objective 'binary:logistic' was changed from 'error' to 'logloss'. Explicitly set eval_metric if you'd like to restore the old behavior.\n",
      "[CV]  n_estimators=10, max_depth=16, learning_rate=0.6, colsample_bytree=0.7, base_score=0.6, alpha=10, total=   0.0s\n",
      "[CV] n_estimators=10, max_depth=16, learning_rate=0.6, colsample_bytree=0.7, base_score=0.6, alpha=10 \n",
      "[22:40:55] WARNING: C:/Users/Administrator/workspace/xgboost-win64_release_1.3.0/src/learner.cc:1061: Starting in XGBoost 1.3.0, the default evaluation metric used with the objective 'binary:logistic' was changed from 'error' to 'logloss'. Explicitly set eval_metric if you'd like to restore the old behavior.\n",
      "[CV]  n_estimators=10, max_depth=16, learning_rate=0.6, colsample_bytree=0.7, base_score=0.6, alpha=10, total=   0.0s\n",
      "[CV] n_estimators=10, max_depth=16, learning_rate=0.6, colsample_bytree=0.7, base_score=0.6, alpha=10 \n",
      "[22:40:55] WARNING: C:/Users/Administrator/workspace/xgboost-win64_release_1.3.0/src/learner.cc:1061: Starting in XGBoost 1.3.0, the default evaluation metric used with the objective 'binary:logistic' was changed from 'error' to 'logloss'. Explicitly set eval_metric if you'd like to restore the old behavior.\n",
      "[CV]  n_estimators=10, max_depth=16, learning_rate=0.6, colsample_bytree=0.7, base_score=0.6, alpha=10, total=   0.0s\n",
      "[CV] n_estimators=40, max_depth=8, learning_rate=0.5, colsample_bytree=0.8, base_score=0.4, alpha=40 \n",
      "[22:40:55] WARNING: C:/Users/Administrator/workspace/xgboost-win64_release_1.3.0/src/learner.cc:1061: Starting in XGBoost 1.3.0, the default evaluation metric used with the objective 'binary:logistic' was changed from 'error' to 'logloss'. Explicitly set eval_metric if you'd like to restore the old behavior.\n"
     ]
    },
    {
     "name": "stdout",
     "output_type": "stream",
     "text": [
      "[CV]  n_estimators=40, max_depth=8, learning_rate=0.5, colsample_bytree=0.8, base_score=0.4, alpha=40, total=   0.0s\n",
      "[CV] n_estimators=40, max_depth=8, learning_rate=0.5, colsample_bytree=0.8, base_score=0.4, alpha=40 \n",
      "[22:40:56] WARNING: C:/Users/Administrator/workspace/xgboost-win64_release_1.3.0/src/learner.cc:1061: Starting in XGBoost 1.3.0, the default evaluation metric used with the objective 'binary:logistic' was changed from 'error' to 'logloss'. Explicitly set eval_metric if you'd like to restore the old behavior.\n",
      "[CV]  n_estimators=40, max_depth=8, learning_rate=0.5, colsample_bytree=0.8, base_score=0.4, alpha=40, total=   0.0s\n",
      "[CV] n_estimators=40, max_depth=8, learning_rate=0.5, colsample_bytree=0.8, base_score=0.4, alpha=40 \n",
      "[22:40:56] WARNING: C:/Users/Administrator/workspace/xgboost-win64_release_1.3.0/src/learner.cc:1061: Starting in XGBoost 1.3.0, the default evaluation metric used with the objective 'binary:logistic' was changed from 'error' to 'logloss'. Explicitly set eval_metric if you'd like to restore the old behavior.\n",
      "[CV]  n_estimators=40, max_depth=8, learning_rate=0.5, colsample_bytree=0.8, base_score=0.4, alpha=40, total=   0.0s\n",
      "[CV] n_estimators=40, max_depth=8, learning_rate=0.5, colsample_bytree=0.8, base_score=0.4, alpha=40 \n",
      "[22:40:56] WARNING: C:/Users/Administrator/workspace/xgboost-win64_release_1.3.0/src/learner.cc:1061: Starting in XGBoost 1.3.0, the default evaluation metric used with the objective 'binary:logistic' was changed from 'error' to 'logloss'. Explicitly set eval_metric if you'd like to restore the old behavior.\n",
      "[CV]  n_estimators=40, max_depth=8, learning_rate=0.5, colsample_bytree=0.8, base_score=0.4, alpha=40, total=   0.0s\n",
      "[CV] n_estimators=40, max_depth=8, learning_rate=0.5, colsample_bytree=0.8, base_score=0.4, alpha=40 \n",
      "[22:40:56] WARNING: C:/Users/Administrator/workspace/xgboost-win64_release_1.3.0/src/learner.cc:1061: Starting in XGBoost 1.3.0, the default evaluation metric used with the objective 'binary:logistic' was changed from 'error' to 'logloss'. Explicitly set eval_metric if you'd like to restore the old behavior.\n",
      "[CV]  n_estimators=40, max_depth=8, learning_rate=0.5, colsample_bytree=0.8, base_score=0.4, alpha=40, total=   0.0s\n",
      "[CV] n_estimators=40, max_depth=8, learning_rate=0.5, colsample_bytree=0.8, base_score=0.4, alpha=40 \n",
      "[22:40:56] WARNING: C:/Users/Administrator/workspace/xgboost-win64_release_1.3.0/src/learner.cc:1061: Starting in XGBoost 1.3.0, the default evaluation metric used with the objective 'binary:logistic' was changed from 'error' to 'logloss'. Explicitly set eval_metric if you'd like to restore the old behavior.\n",
      "[CV]  n_estimators=40, max_depth=8, learning_rate=0.5, colsample_bytree=0.8, base_score=0.4, alpha=40, total=   0.0s\n",
      "[CV] n_estimators=40, max_depth=8, learning_rate=0.5, colsample_bytree=0.8, base_score=0.4, alpha=40 \n",
      "[22:40:56] WARNING: C:/Users/Administrator/workspace/xgboost-win64_release_1.3.0/src/learner.cc:1061: Starting in XGBoost 1.3.0, the default evaluation metric used with the objective 'binary:logistic' was changed from 'error' to 'logloss'. Explicitly set eval_metric if you'd like to restore the old behavior.\n",
      "[CV]  n_estimators=40, max_depth=8, learning_rate=0.5, colsample_bytree=0.8, base_score=0.4, alpha=40, total=   0.0s\n",
      "[CV] n_estimators=40, max_depth=8, learning_rate=0.5, colsample_bytree=0.8, base_score=0.4, alpha=40 \n",
      "[22:40:56] WARNING: C:/Users/Administrator/workspace/xgboost-win64_release_1.3.0/src/learner.cc:1061: Starting in XGBoost 1.3.0, the default evaluation metric used with the objective 'binary:logistic' was changed from 'error' to 'logloss'. Explicitly set eval_metric if you'd like to restore the old behavior.\n",
      "[CV]  n_estimators=40, max_depth=8, learning_rate=0.5, colsample_bytree=0.8, base_score=0.4, alpha=40, total=   0.0s\n",
      "[CV] n_estimators=40, max_depth=8, learning_rate=0.5, colsample_bytree=0.8, base_score=0.4, alpha=40 \n",
      "[22:40:56] WARNING: C:/Users/Administrator/workspace/xgboost-win64_release_1.3.0/src/learner.cc:1061: Starting in XGBoost 1.3.0, the default evaluation metric used with the objective 'binary:logistic' was changed from 'error' to 'logloss'. Explicitly set eval_metric if you'd like to restore the old behavior.\n",
      "[CV]  n_estimators=40, max_depth=8, learning_rate=0.5, colsample_bytree=0.8, base_score=0.4, alpha=40, total=   0.0s\n",
      "[CV] n_estimators=40, max_depth=8, learning_rate=0.5, colsample_bytree=0.8, base_score=0.4, alpha=40 \n",
      "[22:40:56] WARNING: C:/Users/Administrator/workspace/xgboost-win64_release_1.3.0/src/learner.cc:1061: Starting in XGBoost 1.3.0, the default evaluation metric used with the objective 'binary:logistic' was changed from 'error' to 'logloss'. Explicitly set eval_metric if you'd like to restore the old behavior.\n",
      "[CV]  n_estimators=40, max_depth=8, learning_rate=0.5, colsample_bytree=0.8, base_score=0.4, alpha=40, total=   0.0s\n",
      "[22:40:56] WARNING: C:/Users/Administrator/workspace/xgboost-win64_release_1.3.0/src/learner.cc:1061: Starting in XGBoost 1.3.0, the default evaluation metric used with the objective 'binary:logistic' was changed from 'error' to 'logloss'. Explicitly set eval_metric if you'd like to restore the old behavior.\n"
     ]
    },
    {
     "name": "stderr",
     "output_type": "stream",
     "text": [
      "[Parallel(n_jobs=1)]: Done 100 out of 100 | elapsed:    6.9s finished\n",
      "C:\\Users\\saifgazali\\Anaconda3\\lib\\site-packages\\sklearn\\model_selection\\_search.py:841: DeprecationWarning: The default of the `iid` parameter will change from True to False in version 0.22 and will be removed in 0.24. This will change numeric results when test-set sizes are unequal.\n",
      "  DeprecationWarning)\n"
     ]
    },
    {
     "data": {
      "text/plain": [
       "RandomizedSearchCV(cv=10, error_score='raise-deprecating',\n",
       "          estimator=XGBClassifier(base_score=0.5, booster='gbtree', colsample_bylevel=1,\n",
       "       colsample_bynode=1, colsample_bytree=1, gamma=0, gpu_id=-1,\n",
       "       importance_type='gain', interaction_constraints='',\n",
       "       learning_rate=0.300000012, max_delta_step=0, max_depth=6,\n",
       "       min_child_weight=1, mis...sample=1, tree_method='exact',\n",
       "       use_label_encoder=True, validate_parameters=1, verbosity=None),\n",
       "          fit_params=None, iid='warn', n_iter=10, n_jobs=1,\n",
       "          param_distributions={'base_score': [0.1, 0.2, 0.3, 0.4, 0.5, 0.6, 0.7, 0.8, 0.9], 'learning_rate': [0.1, 0.2, 0.3, 0.4, 0.5, 0.6, 0.7, 0.8, 0.9], 'max_depth': [2, 4, 6, 8, 10, 12, 14, 16, 18, 20], 'n_estimators': [10, 20, 30, 40, 50, 60, 70, 80, 90, 100], 'colsample_bytree': [0.1, 0.2, 0.3, 0.4, 0.5, 0.6, 0.7, 0.8, 0.9], 'alpha': [10, 20, 30, 40, 50, 60, 70, 80, 90, 100]},\n",
       "          pre_dispatch='2*n_jobs', random_state=None, refit=True,\n",
       "          return_train_score='warn', scoring='accuracy', verbose=2)"
      ]
     },
     "execution_count": 585,
     "metadata": {},
     "output_type": "execute_result"
    }
   ],
   "source": [
    "randomziedSearchCV.fit(X_test2,Y_test)"
   ]
  },
  {
   "cell_type": "code",
   "execution_count": 586,
   "metadata": {},
   "outputs": [],
   "source": [
    "accuracy = randomziedSearchCV.best_score_\n",
    "best_params = randomziedSearchCV.best_params_"
   ]
  },
  {
   "cell_type": "code",
   "execution_count": 554,
   "metadata": {},
   "outputs": [
    {
     "name": "stdout",
     "output_type": "stream",
     "text": [
      "0.7761194029850746\n",
      "{'n_estimators': 30, 'max_depth': 8, 'learning_rate': 0.3, 'colsample_bytree': 0.3, 'base_score': 0.5, 'alpha': 10}\n"
     ]
    }
   ],
   "source": [
    "print(accuracy)\n",
    "print(best_params)"
   ]
  },
  {
   "cell_type": "code",
   "execution_count": 512,
   "metadata": {},
   "outputs": [],
   "source": [
    "test_data = pd.read_csv('test.csv')"
   ]
  },
  {
   "cell_type": "markdown",
   "metadata": {},
   "source": [
    "### doing the same thing on test data"
   ]
  },
  {
   "cell_type": "code",
   "execution_count": 513,
   "metadata": {},
   "outputs": [],
   "source": [
    "test_data.replace({'S':1,'C':2,'Q':3},inplace=True)"
   ]
  },
  {
   "cell_type": "code",
   "execution_count": 514,
   "metadata": {},
   "outputs": [
    {
     "data": {
      "text/html": [
       "<div>\n",
       "<style scoped>\n",
       "    .dataframe tbody tr th:only-of-type {\n",
       "        vertical-align: middle;\n",
       "    }\n",
       "\n",
       "    .dataframe tbody tr th {\n",
       "        vertical-align: top;\n",
       "    }\n",
       "\n",
       "    .dataframe thead th {\n",
       "        text-align: right;\n",
       "    }\n",
       "</style>\n",
       "<table border=\"1\" class=\"dataframe\">\n",
       "  <thead>\n",
       "    <tr style=\"text-align: right;\">\n",
       "      <th></th>\n",
       "      <th>Sex_male</th>\n",
       "    </tr>\n",
       "  </thead>\n",
       "  <tbody>\n",
       "    <tr>\n",
       "      <th>0</th>\n",
       "      <td>1</td>\n",
       "    </tr>\n",
       "    <tr>\n",
       "      <th>1</th>\n",
       "      <td>0</td>\n",
       "    </tr>\n",
       "    <tr>\n",
       "      <th>2</th>\n",
       "      <td>1</td>\n",
       "    </tr>\n",
       "    <tr>\n",
       "      <th>3</th>\n",
       "      <td>1</td>\n",
       "    </tr>\n",
       "    <tr>\n",
       "      <th>4</th>\n",
       "      <td>0</td>\n",
       "    </tr>\n",
       "  </tbody>\n",
       "</table>\n",
       "</div>"
      ],
      "text/plain": [
       "   Sex_male\n",
       "0         1\n",
       "1         0\n",
       "2         1\n",
       "3         1\n",
       "4         0"
      ]
     },
     "execution_count": 514,
     "metadata": {},
     "output_type": "execute_result"
    }
   ],
   "source": [
    "## one hot encoding for Sex\n",
    "sex = test_data[['Sex']]\n",
    "sex = pd.get_dummies(sex,drop_first=True)\n",
    "sex.head()"
   ]
  },
  {
   "cell_type": "code",
   "execution_count": 515,
   "metadata": {},
   "outputs": [],
   "source": [
    "#Handling missing Data\n",
    "#Replacing missing value with average of the column\n",
    "from sklearn.impute import SimpleImputer\n",
    "imputer = SimpleImputer(missing_values=np.nan, strategy='mean')\n",
    "\n",
    "imputer.fit(test_data[['Age']]) #accepts only column with numerical values \n",
    "test_data['Age'] = imputer.transform(test_data[['Age']])\n",
    "\n",
    "imputer.fit(test_data[['Fare']]) #accepts only column with numerical values \n",
    "test_data['Fare'] = imputer.transform(test_data[['Fare']])"
   ]
  },
  {
   "cell_type": "code",
   "execution_count": 516,
   "metadata": {},
   "outputs": [],
   "source": [
    "data_test = pd.concat([test_data,sex],axis=1)"
   ]
  },
  {
   "cell_type": "code",
   "execution_count": 587,
   "metadata": {},
   "outputs": [
    {
     "data": {
      "text/html": [
       "<div>\n",
       "<style scoped>\n",
       "    .dataframe tbody tr th:only-of-type {\n",
       "        vertical-align: middle;\n",
       "    }\n",
       "\n",
       "    .dataframe tbody tr th {\n",
       "        vertical-align: top;\n",
       "    }\n",
       "\n",
       "    .dataframe thead th {\n",
       "        text-align: right;\n",
       "    }\n",
       "</style>\n",
       "<table border=\"1\" class=\"dataframe\">\n",
       "  <thead>\n",
       "    <tr style=\"text-align: right;\">\n",
       "      <th></th>\n",
       "      <th>PassengerId</th>\n",
       "      <th>Pclass</th>\n",
       "      <th>Name</th>\n",
       "      <th>Sex</th>\n",
       "      <th>Age</th>\n",
       "      <th>SibSp</th>\n",
       "      <th>Parch</th>\n",
       "      <th>Ticket</th>\n",
       "      <th>Fare</th>\n",
       "      <th>Cabin</th>\n",
       "      <th>Embarked</th>\n",
       "      <th>Sex_male</th>\n",
       "    </tr>\n",
       "  </thead>\n",
       "  <tbody>\n",
       "    <tr>\n",
       "      <th>0</th>\n",
       "      <td>892</td>\n",
       "      <td>3</td>\n",
       "      <td>Kelly, Mr. James</td>\n",
       "      <td>male</td>\n",
       "      <td>34.5</td>\n",
       "      <td>0</td>\n",
       "      <td>0</td>\n",
       "      <td>330911</td>\n",
       "      <td>7.8292</td>\n",
       "      <td>NaN</td>\n",
       "      <td>3</td>\n",
       "      <td>1</td>\n",
       "    </tr>\n",
       "    <tr>\n",
       "      <th>1</th>\n",
       "      <td>893</td>\n",
       "      <td>3</td>\n",
       "      <td>Wilkes, Mrs. James (Ellen Needs)</td>\n",
       "      <td>female</td>\n",
       "      <td>47.0</td>\n",
       "      <td>1</td>\n",
       "      <td>0</td>\n",
       "      <td>363272</td>\n",
       "      <td>7.0000</td>\n",
       "      <td>NaN</td>\n",
       "      <td>1</td>\n",
       "      <td>0</td>\n",
       "    </tr>\n",
       "    <tr>\n",
       "      <th>2</th>\n",
       "      <td>894</td>\n",
       "      <td>2</td>\n",
       "      <td>Myles, Mr. Thomas Francis</td>\n",
       "      <td>male</td>\n",
       "      <td>62.0</td>\n",
       "      <td>0</td>\n",
       "      <td>0</td>\n",
       "      <td>240276</td>\n",
       "      <td>9.6875</td>\n",
       "      <td>NaN</td>\n",
       "      <td>3</td>\n",
       "      <td>1</td>\n",
       "    </tr>\n",
       "    <tr>\n",
       "      <th>3</th>\n",
       "      <td>895</td>\n",
       "      <td>3</td>\n",
       "      <td>Wirz, Mr. Albert</td>\n",
       "      <td>male</td>\n",
       "      <td>27.0</td>\n",
       "      <td>0</td>\n",
       "      <td>0</td>\n",
       "      <td>315154</td>\n",
       "      <td>8.6625</td>\n",
       "      <td>NaN</td>\n",
       "      <td>1</td>\n",
       "      <td>1</td>\n",
       "    </tr>\n",
       "    <tr>\n",
       "      <th>4</th>\n",
       "      <td>896</td>\n",
       "      <td>3</td>\n",
       "      <td>Hirvonen, Mrs. Alexander (Helga E Lindqvist)</td>\n",
       "      <td>female</td>\n",
       "      <td>22.0</td>\n",
       "      <td>1</td>\n",
       "      <td>1</td>\n",
       "      <td>3101298</td>\n",
       "      <td>12.2875</td>\n",
       "      <td>NaN</td>\n",
       "      <td>1</td>\n",
       "      <td>0</td>\n",
       "    </tr>\n",
       "  </tbody>\n",
       "</table>\n",
       "</div>"
      ],
      "text/plain": [
       "   PassengerId  Pclass                                          Name     Sex  \\\n",
       "0          892       3                              Kelly, Mr. James    male   \n",
       "1          893       3              Wilkes, Mrs. James (Ellen Needs)  female   \n",
       "2          894       2                     Myles, Mr. Thomas Francis    male   \n",
       "3          895       3                              Wirz, Mr. Albert    male   \n",
       "4          896       3  Hirvonen, Mrs. Alexander (Helga E Lindqvist)  female   \n",
       "\n",
       "    Age  SibSp  Parch   Ticket     Fare Cabin  Embarked  Sex_male  \n",
       "0  34.5      0      0   330911   7.8292   NaN         3         1  \n",
       "1  47.0      1      0   363272   7.0000   NaN         1         0  \n",
       "2  62.0      0      0   240276   9.6875   NaN         3         1  \n",
       "3  27.0      0      0   315154   8.6625   NaN         1         1  \n",
       "4  22.0      1      1  3101298  12.2875   NaN         1         0  "
      ]
     },
     "execution_count": 587,
     "metadata": {},
     "output_type": "execute_result"
    }
   ],
   "source": [
    "data_test.head()"
   ]
  },
  {
   "cell_type": "code",
   "execution_count": 593,
   "metadata": {},
   "outputs": [],
   "source": [
    "X_test3 = data_test[['Sex_male','Pclass','Fare']]"
   ]
  },
  {
   "cell_type": "code",
   "execution_count": 594,
   "metadata": {},
   "outputs": [
    {
     "data": {
      "text/html": [
       "<div>\n",
       "<style scoped>\n",
       "    .dataframe tbody tr th:only-of-type {\n",
       "        vertical-align: middle;\n",
       "    }\n",
       "\n",
       "    .dataframe tbody tr th {\n",
       "        vertical-align: top;\n",
       "    }\n",
       "\n",
       "    .dataframe thead th {\n",
       "        text-align: right;\n",
       "    }\n",
       "</style>\n",
       "<table border=\"1\" class=\"dataframe\">\n",
       "  <thead>\n",
       "    <tr style=\"text-align: right;\">\n",
       "      <th></th>\n",
       "      <th>Sex_male</th>\n",
       "      <th>Pclass</th>\n",
       "      <th>Fare</th>\n",
       "    </tr>\n",
       "  </thead>\n",
       "  <tbody>\n",
       "    <tr>\n",
       "      <th>0</th>\n",
       "      <td>1</td>\n",
       "      <td>3</td>\n",
       "      <td>7.8292</td>\n",
       "    </tr>\n",
       "    <tr>\n",
       "      <th>1</th>\n",
       "      <td>0</td>\n",
       "      <td>3</td>\n",
       "      <td>7.0000</td>\n",
       "    </tr>\n",
       "    <tr>\n",
       "      <th>2</th>\n",
       "      <td>1</td>\n",
       "      <td>2</td>\n",
       "      <td>9.6875</td>\n",
       "    </tr>\n",
       "    <tr>\n",
       "      <th>3</th>\n",
       "      <td>1</td>\n",
       "      <td>3</td>\n",
       "      <td>8.6625</td>\n",
       "    </tr>\n",
       "    <tr>\n",
       "      <th>4</th>\n",
       "      <td>0</td>\n",
       "      <td>3</td>\n",
       "      <td>12.2875</td>\n",
       "    </tr>\n",
       "  </tbody>\n",
       "</table>\n",
       "</div>"
      ],
      "text/plain": [
       "   Sex_male  Pclass     Fare\n",
       "0         1       3   7.8292\n",
       "1         0       3   7.0000\n",
       "2         1       2   9.6875\n",
       "3         1       3   8.6625\n",
       "4         0       3  12.2875"
      ]
     },
     "execution_count": 594,
     "metadata": {},
     "output_type": "execute_result"
    }
   ],
   "source": [
    "X_test3.head()"
   ]
  },
  {
   "cell_type": "code",
   "execution_count": 595,
   "metadata": {},
   "outputs": [],
   "source": [
    "\n",
    "X_train3 = data_train[['Sex_male','Pclass','Fare']]"
   ]
  },
  {
   "cell_type": "code",
   "execution_count": 596,
   "metadata": {},
   "outputs": [
    {
     "data": {
      "text/plain": [
       "Sex_male    0\n",
       "Pclass      0\n",
       "Fare        0\n",
       "dtype: int64"
      ]
     },
     "execution_count": 596,
     "metadata": {},
     "output_type": "execute_result"
    }
   ],
   "source": [
    "X_test3.isnull().sum()"
   ]
  },
  {
   "cell_type": "code",
   "execution_count": 597,
   "metadata": {},
   "outputs": [],
   "source": [
    "Y_train3 = data_train[['Survived']]"
   ]
  },
  {
   "cell_type": "code",
   "execution_count": 598,
   "metadata": {},
   "outputs": [
    {
     "name": "stderr",
     "output_type": "stream",
     "text": [
      "C:\\Users\\saifgazali\\Anaconda3\\lib\\site-packages\\sklearn\\preprocessing\\data.py:625: DataConversionWarning: Data with input dtype uint8, int64, float64 were all converted to float64 by StandardScaler.\n",
      "  return self.partial_fit(X, y)\n",
      "C:\\Users\\saifgazali\\Anaconda3\\lib\\site-packages\\sklearn\\base.py:462: DataConversionWarning: Data with input dtype uint8, int64, float64 were all converted to float64 by StandardScaler.\n",
      "  return self.fit(X, **fit_params).transform(X)\n",
      "C:\\Users\\saifgazali\\Anaconda3\\lib\\site-packages\\ipykernel_launcher.py:4: DataConversionWarning: Data with input dtype uint8, int64, float64 were all converted to float64 by StandardScaler.\n",
      "  after removing the cwd from sys.path.\n"
     ]
    }
   ],
   "source": [
    "from sklearn.preprocessing import StandardScaler\n",
    "sc = StandardScaler()\n",
    "X_train3 = sc.fit_transform(X_train3)\n",
    "X_test3 = sc.transform(X_test3)"
   ]
  },
  {
   "cell_type": "code",
   "execution_count": 599,
   "metadata": {},
   "outputs": [
    {
     "data": {
      "text/plain": [
       "True"
      ]
     },
     "execution_count": 599,
     "metadata": {},
     "output_type": "execute_result"
    }
   ],
   "source": [
    "X_test3.all()"
   ]
  },
  {
   "cell_type": "code",
   "execution_count": 600,
   "metadata": {},
   "outputs": [
    {
     "name": "stdout",
     "output_type": "stream",
     "text": [
      "[[ 0.73769513  0.82737724 -0.49078316]\n",
      " [-1.35557354  0.82737724 -0.50747884]\n",
      " [ 0.73769513 -0.36936484 -0.45336687]\n",
      " ...\n",
      " [ 0.73769513  0.82737724 -0.50244517]\n",
      " [ 0.73769513  0.82737724 -0.48633742]\n",
      " [ 0.73769513  0.82737724 -0.19824428]]\n"
     ]
    }
   ],
   "source": [
    "print(X_test3)"
   ]
  },
  {
   "cell_type": "markdown",
   "metadata": {},
   "source": [
    "X_train3 = data_train[['Pclass', 'Fare', 'Sex_male','Age', 'Parch']]"
   ]
  },
  {
   "cell_type": "code",
   "execution_count": 601,
   "metadata": {},
   "outputs": [],
   "source": [
    "from sklearn.decomposition import PCA\n",
    "pca = PCA(n_components = 2) # n_components is the no of extracted features\n",
    "X_train3 = pca.fit_transform(X_train3)\n",
    "X_test3 = pca.transform(X_test3)"
   ]
  },
  {
   "cell_type": "code",
   "execution_count": 602,
   "metadata": {},
   "outputs": [
    {
     "name": "stdout",
     "output_type": "stream",
     "text": [
      "[22:41:33] WARNING: C:/Users/Administrator/workspace/xgboost-win64_release_1.3.0/src/learner.cc:1061: Starting in XGBoost 1.3.0, the default evaluation metric used with the objective 'binary:logistic' was changed from 'error' to 'logloss'. Explicitly set eval_metric if you'd like to restore the old behavior.\n"
     ]
    },
    {
     "name": "stderr",
     "output_type": "stream",
     "text": [
      "C:\\Users\\saifgazali\\Anaconda3\\lib\\site-packages\\xgboost\\sklearn.py:888: UserWarning: The use of label encoder in XGBClassifier is deprecated and will be removed in a future release. To remove this warning, do the following: 1) Pass option use_label_encoder=False when constructing XGBClassifier object; and 2) Encode your labels (y) as integers starting with 0, i.e. 0, 1, 2, ..., [num_class - 1].\n",
      "  warnings.warn(label_encoder_deprecation_msg, UserWarning)\n",
      "C:\\Users\\saifgazali\\Anaconda3\\lib\\site-packages\\sklearn\\preprocessing\\label.py:219: DataConversionWarning: A column-vector y was passed when a 1d array was expected. Please change the shape of y to (n_samples, ), for example using ravel().\n",
      "  y = column_or_1d(y, warn=True)\n",
      "C:\\Users\\saifgazali\\Anaconda3\\lib\\site-packages\\sklearn\\preprocessing\\label.py:252: DataConversionWarning: A column-vector y was passed when a 1d array was expected. Please change the shape of y to (n_samples, ), for example using ravel().\n",
      "  y = column_or_1d(y, warn=True)\n"
     ]
    },
    {
     "data": {
      "text/plain": [
       "XGBClassifier(base_score=0.5, booster='gbtree', colsample_bylevel=1,\n",
       "       colsample_bynode=1, colsample_bytree=1, gamma=0, gpu_id=-1,\n",
       "       importance_type='gain', interaction_constraints='',\n",
       "       learning_rate=0.300000012, max_delta_step=0, max_depth=6,\n",
       "       min_child_weight=1, missing=nan, monotone_constraints='()',\n",
       "       n_estimators=100, n_jobs=4, num_parallel_tree=1,\n",
       "       objective='binary:logistic', random_state=0, reg_alpha=0,\n",
       "       reg_lambda=1, scale_pos_weight=1, subsample=1, tree_method='exact',\n",
       "       use_label_encoder=True, validate_parameters=1, verbosity=None)"
      ]
     },
     "execution_count": 602,
     "metadata": {},
     "output_type": "execute_result"
    }
   ],
   "source": [
    "classifier.fit(X_train3,Y_train3)"
   ]
  },
  {
   "cell_type": "code",
   "execution_count": 603,
   "metadata": {},
   "outputs": [
    {
     "data": {
      "text/plain": [
       "0.8843995510662177"
      ]
     },
     "execution_count": 603,
     "metadata": {},
     "output_type": "execute_result"
    }
   ],
   "source": [
    "classifier.score(X_train3,Y_train3)"
   ]
  },
  {
   "cell_type": "code",
   "execution_count": 604,
   "metadata": {},
   "outputs": [],
   "source": [
    "classifier1 = XGBClassifier(n_estimators= 40, max_depth= 8, learning_rate= 0.1, colsample_bytree= 0.4, base_score= 0.8, alpha= 10)"
   ]
  },
  {
   "cell_type": "code",
   "execution_count": 605,
   "metadata": {},
   "outputs": [
    {
     "name": "stdout",
     "output_type": "stream",
     "text": [
      "[22:41:37] WARNING: C:/Users/Administrator/workspace/xgboost-win64_release_1.3.0/src/learner.cc:1061: Starting in XGBoost 1.3.0, the default evaluation metric used with the objective 'binary:logistic' was changed from 'error' to 'logloss'. Explicitly set eval_metric if you'd like to restore the old behavior.\n"
     ]
    },
    {
     "data": {
      "text/plain": [
       "XGBClassifier(alpha=10, base_score=0.8, booster='gbtree', colsample_bylevel=1,\n",
       "       colsample_bynode=1, colsample_bytree=0.4, gamma=0, gpu_id=-1,\n",
       "       importance_type='gain', interaction_constraints='',\n",
       "       learning_rate=0.1, max_delta_step=0, max_depth=8,\n",
       "       min_child_weight=1, missing=nan, monotone_constraints='()',\n",
       "       n_estimators=40, n_jobs=4, num_parallel_tree=1,\n",
       "       objective='binary:logistic', random_state=0, reg_alpha=10,\n",
       "       reg_lambda=1, scale_pos_weight=1, subsample=1, tree_method='exact',\n",
       "       use_label_encoder=True, validate_parameters=1, verbosity=None)"
      ]
     },
     "execution_count": 605,
     "metadata": {},
     "output_type": "execute_result"
    }
   ],
   "source": [
    "classifier1.fit(X_train3,Y_train3)"
   ]
  },
  {
   "cell_type": "code",
   "execution_count": 606,
   "metadata": {},
   "outputs": [
    {
     "data": {
      "text/plain": [
       "0.8035914702581369"
      ]
     },
     "execution_count": 606,
     "metadata": {},
     "output_type": "execute_result"
    }
   ],
   "source": [
    "classifier1.score(X_train3,Y_train3)"
   ]
  },
  {
   "cell_type": "code",
   "execution_count": null,
   "metadata": {},
   "outputs": [],
   "source": []
  },
  {
   "cell_type": "code",
   "execution_count": 607,
   "metadata": {},
   "outputs": [],
   "source": [
    "y_pred = classifier.predict(X_test3)\n",
    "surv = pd.DataFrame(y_pred,columns=['Survived'])"
   ]
  },
  {
   "cell_type": "code",
   "execution_count": 608,
   "metadata": {},
   "outputs": [
    {
     "data": {
      "text/html": [
       "<div>\n",
       "<style scoped>\n",
       "    .dataframe tbody tr th:only-of-type {\n",
       "        vertical-align: middle;\n",
       "    }\n",
       "\n",
       "    .dataframe tbody tr th {\n",
       "        vertical-align: top;\n",
       "    }\n",
       "\n",
       "    .dataframe thead th {\n",
       "        text-align: right;\n",
       "    }\n",
       "</style>\n",
       "<table border=\"1\" class=\"dataframe\">\n",
       "  <thead>\n",
       "    <tr style=\"text-align: right;\">\n",
       "      <th></th>\n",
       "      <th>Survived</th>\n",
       "    </tr>\n",
       "  </thead>\n",
       "  <tbody>\n",
       "    <tr>\n",
       "      <th>0</th>\n",
       "      <td>0</td>\n",
       "    </tr>\n",
       "    <tr>\n",
       "      <th>1</th>\n",
       "      <td>1</td>\n",
       "    </tr>\n",
       "    <tr>\n",
       "      <th>2</th>\n",
       "      <td>0</td>\n",
       "    </tr>\n",
       "    <tr>\n",
       "      <th>3</th>\n",
       "      <td>0</td>\n",
       "    </tr>\n",
       "    <tr>\n",
       "      <th>4</th>\n",
       "      <td>1</td>\n",
       "    </tr>\n",
       "    <tr>\n",
       "      <th>...</th>\n",
       "      <td>...</td>\n",
       "    </tr>\n",
       "    <tr>\n",
       "      <th>413</th>\n",
       "      <td>0</td>\n",
       "    </tr>\n",
       "    <tr>\n",
       "      <th>414</th>\n",
       "      <td>1</td>\n",
       "    </tr>\n",
       "    <tr>\n",
       "      <th>415</th>\n",
       "      <td>0</td>\n",
       "    </tr>\n",
       "    <tr>\n",
       "      <th>416</th>\n",
       "      <td>0</td>\n",
       "    </tr>\n",
       "    <tr>\n",
       "      <th>417</th>\n",
       "      <td>0</td>\n",
       "    </tr>\n",
       "  </tbody>\n",
       "</table>\n",
       "<p>418 rows × 1 columns</p>\n",
       "</div>"
      ],
      "text/plain": [
       "     Survived\n",
       "0           0\n",
       "1           1\n",
       "2           0\n",
       "3           0\n",
       "4           1\n",
       "..        ...\n",
       "413         0\n",
       "414         1\n",
       "415         0\n",
       "416         0\n",
       "417         0\n",
       "\n",
       "[418 rows x 1 columns]"
      ]
     },
     "execution_count": 608,
     "metadata": {},
     "output_type": "execute_result"
    }
   ],
   "source": [
    "surv"
   ]
  },
  {
   "cell_type": "code",
   "execution_count": 609,
   "metadata": {},
   "outputs": [],
   "source": [
    "passId = pd.DataFrame(data_test['PassengerId'],columns=['PassengerId'])"
   ]
  },
  {
   "cell_type": "code",
   "execution_count": 610,
   "metadata": {},
   "outputs": [],
   "source": [
    "predictions = pd.concat([passId,surv],axis=1)"
   ]
  },
  {
   "cell_type": "code",
   "execution_count": 611,
   "metadata": {},
   "outputs": [
    {
     "data": {
      "text/html": [
       "<div>\n",
       "<style scoped>\n",
       "    .dataframe tbody tr th:only-of-type {\n",
       "        vertical-align: middle;\n",
       "    }\n",
       "\n",
       "    .dataframe tbody tr th {\n",
       "        vertical-align: top;\n",
       "    }\n",
       "\n",
       "    .dataframe thead th {\n",
       "        text-align: right;\n",
       "    }\n",
       "</style>\n",
       "<table border=\"1\" class=\"dataframe\">\n",
       "  <thead>\n",
       "    <tr style=\"text-align: right;\">\n",
       "      <th></th>\n",
       "      <th>PassengerId</th>\n",
       "      <th>Survived</th>\n",
       "    </tr>\n",
       "  </thead>\n",
       "  <tbody>\n",
       "    <tr>\n",
       "      <th>0</th>\n",
       "      <td>892</td>\n",
       "      <td>0</td>\n",
       "    </tr>\n",
       "    <tr>\n",
       "      <th>1</th>\n",
       "      <td>893</td>\n",
       "      <td>1</td>\n",
       "    </tr>\n",
       "    <tr>\n",
       "      <th>2</th>\n",
       "      <td>894</td>\n",
       "      <td>0</td>\n",
       "    </tr>\n",
       "    <tr>\n",
       "      <th>3</th>\n",
       "      <td>895</td>\n",
       "      <td>0</td>\n",
       "    </tr>\n",
       "    <tr>\n",
       "      <th>4</th>\n",
       "      <td>896</td>\n",
       "      <td>1</td>\n",
       "    </tr>\n",
       "    <tr>\n",
       "      <th>...</th>\n",
       "      <td>...</td>\n",
       "      <td>...</td>\n",
       "    </tr>\n",
       "    <tr>\n",
       "      <th>413</th>\n",
       "      <td>1305</td>\n",
       "      <td>0</td>\n",
       "    </tr>\n",
       "    <tr>\n",
       "      <th>414</th>\n",
       "      <td>1306</td>\n",
       "      <td>1</td>\n",
       "    </tr>\n",
       "    <tr>\n",
       "      <th>415</th>\n",
       "      <td>1307</td>\n",
       "      <td>0</td>\n",
       "    </tr>\n",
       "    <tr>\n",
       "      <th>416</th>\n",
       "      <td>1308</td>\n",
       "      <td>0</td>\n",
       "    </tr>\n",
       "    <tr>\n",
       "      <th>417</th>\n",
       "      <td>1309</td>\n",
       "      <td>0</td>\n",
       "    </tr>\n",
       "  </tbody>\n",
       "</table>\n",
       "<p>418 rows × 2 columns</p>\n",
       "</div>"
      ],
      "text/plain": [
       "     PassengerId  Survived\n",
       "0            892         0\n",
       "1            893         1\n",
       "2            894         0\n",
       "3            895         0\n",
       "4            896         1\n",
       "..           ...       ...\n",
       "413         1305         0\n",
       "414         1306         1\n",
       "415         1307         0\n",
       "416         1308         0\n",
       "417         1309         0\n",
       "\n",
       "[418 rows x 2 columns]"
      ]
     },
     "execution_count": 611,
     "metadata": {},
     "output_type": "execute_result"
    }
   ],
   "source": [
    "predictions"
   ]
  },
  {
   "cell_type": "code",
   "execution_count": 612,
   "metadata": {},
   "outputs": [],
   "source": [
    "predictions.to_csv(r'C:\\Users\\saifgazali\\Desktop\\DataAnalysis\\MachineLearning\\ExploratoryDataAnalysis\\Prediction.csv', index = False)"
   ]
  },
  {
   "cell_type": "code",
   "execution_count": null,
   "metadata": {},
   "outputs": [],
   "source": []
  },
  {
   "cell_type": "code",
   "execution_count": null,
   "metadata": {},
   "outputs": [],
   "source": []
  },
  {
   "cell_type": "code",
   "execution_count": null,
   "metadata": {},
   "outputs": [],
   "source": []
  },
  {
   "cell_type": "code",
   "execution_count": null,
   "metadata": {},
   "outputs": [],
   "source": []
  },
  {
   "cell_type": "code",
   "execution_count": null,
   "metadata": {},
   "outputs": [],
   "source": []
  },
  {
   "cell_type": "code",
   "execution_count": null,
   "metadata": {},
   "outputs": [],
   "source": []
  },
  {
   "cell_type": "code",
   "execution_count": null,
   "metadata": {},
   "outputs": [],
   "source": []
  },
  {
   "cell_type": "code",
   "execution_count": null,
   "metadata": {},
   "outputs": [],
   "source": []
  },
  {
   "cell_type": "code",
   "execution_count": null,
   "metadata": {},
   "outputs": [],
   "source": []
  }
 ],
 "metadata": {
  "kernelspec": {
   "display_name": "Python 3",
   "language": "python",
   "name": "python3"
  },
  "language_info": {
   "codemirror_mode": {
    "name": "ipython",
    "version": 3
   },
   "file_extension": ".py",
   "mimetype": "text/x-python",
   "name": "python",
   "nbconvert_exporter": "python",
   "pygments_lexer": "ipython3",
   "version": "3.7.1"
  }
 },
 "nbformat": 4,
 "nbformat_minor": 2
}
